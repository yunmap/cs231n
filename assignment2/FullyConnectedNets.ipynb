{
<<<<<<< HEAD
 "cells": [
  {
   "cell_type": "markdown",
   "metadata": {},
   "source": [
    "# Fully-Connected Neural Nets\n",
    "In the previous homework you implemented a fully-connected two-layer neural network on CIFAR-10. The implementation was simple but not very modular since the loss and gradient were computed in a single monolithic function. This is manageable for a simple two-layer network, but would become impractical as we move to bigger models. Ideally we want to build networks using a more modular design so that we can implement different layer types in isolation and then snap them together into models with different architectures.\n",
    "\n",
    "In this exercise we will implement fully-connected networks using a more modular approach. For each layer we will implement a `forward` and a `backward` function. The `forward` function will receive inputs, weights, and other parameters and will return both an output and a `cache` object storing data needed for the backward pass, like this:\n",
    "\n",
    "```python\n",
    "def layer_forward(x, w):\n",
    "  \"\"\" Receive inputs x and weights w \"\"\"\n",
    "  # Do some computations ...\n",
    "  z = # ... some intermediate value\n",
    "  # Do some more computations ...\n",
    "  out = # the output\n",
    "   \n",
    "  cache = (x, w, z, out) # Values we need to compute gradients\n",
    "   \n",
    "  return out, cache\n",
    "```\n",
    "\n",
    "The backward pass will receive upstream derivatives and the `cache` object, and will return gradients with respect to the inputs and weights, like this:\n",
    "\n",
    "```python\n",
    "def layer_backward(dout, cache):\n",
    "  \"\"\"\n",
    "  Receive derivative of loss with respect to outputs and cache,\n",
    "  and compute derivative with respect to inputs.\n",
    "  \"\"\"\n",
    "  # Unpack cache values\n",
    "  x, w, z, out = cache\n",
    "  \n",
    "  # Use values in cache to compute derivatives\n",
    "  dx = # Derivative of loss with respect to x\n",
    "  dw = # Derivative of loss with respect to w\n",
    "  \n",
    "  return dx, dw\n",
    "```\n",
    "\n",
    "After implementing a bunch of layers this way, we will be able to easily combine them to build classifiers with different architectures.\n",
    "\n",
    "In addition to implementing fully-connected networks of arbitrary depth, we will also explore different update rules for optimization, and introduce Dropout as a regularizer and Batch Normalization as a tool to more efficiently optimize deep networks.\n",
    "  "
   ]
  },
  {
   "cell_type": "code",
   "execution_count": 1,
   "metadata": {},
   "outputs": [],
   "source": [
    "# As usual, a bit of setup\n",
    "from __future__ import print_function\n",
    "import time\n",
    "import numpy as np\n",
    "import matplotlib.pyplot as plt\n",
    "from cs231n.classifiers.fc_net import *\n",
    "from cs231n.data_utils import get_CIFAR10_data\n",
    "from cs231n.gradient_check import eval_numerical_gradient, eval_numerical_gradient_array\n",
    "from cs231n.solver import Solver\n",
    "\n",
    "%matplotlib inline\n",
    "plt.rcParams['figure.figsize'] = (10.0, 8.0) # set default size of plots\n",
    "plt.rcParams['image.interpolation'] = 'nearest'\n",
    "plt.rcParams['image.cmap'] = 'gray'\n",
    "\n",
    "# for auto-reloading external modules\n",
    "# see http://stackoverflow.com/questions/1907993/autoreload-of-modules-in-ipython\n",
    "%load_ext autoreload\n",
    "%autoreload 2\n",
    "\n",
    "def rel_error(x, y):\n",
    "  \"\"\" returns relative error \"\"\"\n",
    "  return np.max(np.abs(x - y) / (np.maximum(1e-8, np.abs(x) + np.abs(y))))"
   ]
  },
  {
   "cell_type": "code",
   "execution_count": 2,
   "metadata": {},
   "outputs": [
    {
     "name": "stdout",
     "output_type": "stream",
     "text": [
      "('X_val: ', (1000, 3, 32, 32))\n",
      "('X_train: ', (49000, 3, 32, 32))\n",
      "('X_test: ', (1000, 3, 32, 32))\n",
      "('y_val: ', (1000,))\n",
      "('y_train: ', (49000,))\n",
      "('y_test: ', (1000,))\n"
     ]
    }
   ],
   "source": [
    "# Load the (preprocessed) CIFAR10 data.\n",
    "\n",
    "data = get_CIFAR10_data()\n",
    "for k, v in list(data.items()):\n",
    "  print(('%s: ' % k, v.shape))"
   ]
  },
  {
   "cell_type": "markdown",
   "metadata": {},
   "source": [
    "# Affine layer: foward\n",
    "Open the file `cs231n/layers.py` and implement the `affine_forward` function.\n",
    "\n",
    "Once you are done you can test your implementaion by running the following:"
   ]
  },
  {
   "cell_type": "code",
   "execution_count": 3,
   "metadata": {},
   "outputs": [
    {
     "name": "stdout",
     "output_type": "stream",
     "text": [
      "Testing affine_forward function:\n",
      "difference:  9.76984946819e-10\n"
     ]
    }
   ],
   "source": [
    "# Test the affine_forward function\n",
    "\n",
    "num_inputs = 2\n",
    "input_shape = (4, 5, 6)\n",
    "output_dim = 3\n",
    "\n",
    "input_size = num_inputs * np.prod(input_shape)\n",
    "weight_size = output_dim * np.prod(input_shape)\n",
    "\n",
    "x = np.linspace(-0.1, 0.5, num=input_size).reshape(num_inputs, *input_shape)\n",
    "w = np.linspace(-0.2, 0.3, num=weight_size).reshape(np.prod(input_shape), output_dim)\n",
    "b = np.linspace(-0.3, 0.1, num=output_dim)\n",
    "\n",
    "out, _ = affine_forward(x, w, b)\n",
    "correct_out = np.array([[ 1.49834967,  1.70660132,  1.91485297],\n",
    "                        [ 3.25553199,  3.5141327,   3.77273342]])\n",
    "\n",
    "# Compare your output with ours. The error should be around 1e-9.\n",
    "print('Testing affine_forward function:')\n",
    "print('difference: ', rel_error(out, correct_out))"
   ]
  },
  {
   "cell_type": "markdown",
   "metadata": {},
   "source": [
    "# Affine layer: backward\n",
    "Now implement the `affine_backward` function and test your implementation using numeric gradient checking."
   ]
  },
  {
   "cell_type": "code",
   "execution_count": 4,
   "metadata": {},
   "outputs": [
    {
     "name": "stdout",
     "output_type": "stream",
     "text": [
      "Testing affine_backward function:\n",
      "dx error:  5.39910036865e-11\n",
      "dw error:  9.9042118654e-11\n",
      "db error:  2.41228675681e-11\n"
     ]
    }
   ],
   "source": [
    "# Test the affine_backward function\n",
    "np.random.seed(231)\n",
    "x = np.random.randn(10, 2, 3)\n",
    "w = np.random.randn(6, 5)\n",
    "b = np.random.randn(5)\n",
    "dout = np.random.randn(10, 5)\n",
    "\n",
    "dx_num = eval_numerical_gradient_array(lambda x: affine_forward(x, w, b)[0], x, dout)\n",
    "dw_num = eval_numerical_gradient_array(lambda w: affine_forward(x, w, b)[0], w, dout)\n",
    "db_num = eval_numerical_gradient_array(lambda b: affine_forward(x, w, b)[0], b, dout)\n",
    "\n",
    "_, cache = affine_forward(x, w, b)\n",
    "dx, dw, db = affine_backward(dout, cache)\n",
    "\n",
    "# The error should be around 1e-10\n",
    "print('Testing affine_backward function:')\n",
    "print('dx error: ', rel_error(dx_num, dx))\n",
    "print('dw error: ', rel_error(dw_num, dw))\n",
    "print('db error: ', rel_error(db_num, db))"
   ]
  },
  {
   "cell_type": "markdown",
   "metadata": {},
   "source": [
    "# ReLU layer: forward\n",
    "Implement the forward pass for the ReLU activation function in the `relu_forward` function and test your implementation using the following:"
   ]
  },
  {
   "cell_type": "code",
   "execution_count": 5,
   "metadata": {},
   "outputs": [
    {
     "name": "stdout",
     "output_type": "stream",
     "text": [
      "Testing relu_forward function:\n",
      "difference:  4.99999979802e-08\n"
     ]
    }
   ],
   "source": [
    "# Test the relu_forward function\n",
    "\n",
    "x = np.linspace(-0.5, 0.5, num=12).reshape(3, 4)\n",
    "\n",
    "out, _ = relu_forward(x)\n",
    "correct_out = np.array([[ 0.,          0.,          0.,          0.,        ],\n",
    "                        [ 0.,          0.,          0.04545455,  0.13636364,],\n",
    "                        [ 0.22727273,  0.31818182,  0.40909091,  0.5,       ]])\n",
    "\n",
    "# Compare your output with ours. The error should be around 5e-8\n",
    "print('Testing relu_forward function:')\n",
    "print('difference: ', rel_error(out, correct_out))"
   ]
  },
  {
   "cell_type": "markdown",
   "metadata": {},
   "source": [
    "# ReLU layer: backward\n",
    "Now implement the backward pass for the ReLU activation function in the `relu_backward` function and test your implementation using numeric gradient checking:"
   ]
  },
  {
   "cell_type": "code",
   "execution_count": 6,
   "metadata": {},
   "outputs": [
    {
     "name": "stdout",
     "output_type": "stream",
     "text": [
      "Testing relu_backward function:\n",
      "dx error:  3.27563491363e-12\n"
     ]
    }
   ],
   "source": [
    "np.random.seed(231)\n",
    "x = np.random.randn(10, 10)\n",
    "dout = np.random.randn(*x.shape)\n",
    "\n",
    "dx_num = eval_numerical_gradient_array(lambda x: relu_forward(x)[0], x, dout)\n",
    "\n",
    "_, cache = relu_forward(x)\n",
    "dx = relu_backward(dout, cache)\n",
    "\n",
    "# The error should be around 3e-12\n",
    "print('Testing relu_backward function:')\n",
    "print('dx error: ', rel_error(dx_num, dx))"
   ]
  },
  {
   "cell_type": "markdown",
   "metadata": {},
   "source": [
    "# \"Sandwich\" layers\n",
    "There are some common patterns of layers that are frequently used in neural nets. For example, affine layers are frequently followed by a ReLU nonlinearity. To make these common patterns easy, we define several convenience layers in the file `cs231n/layer_utils.py`.\n",
    "\n",
    "For now take a look at the `affine_relu_forward` and `affine_relu_backward` functions, and run the following to numerically gradient check the backward pass:"
   ]
  },
  {
   "cell_type": "code",
   "execution_count": 7,
   "metadata": {},
   "outputs": [
    {
     "name": "stdout",
     "output_type": "stream",
     "text": [
      "Testing affine_relu_forward:\n",
      "dx error:  2.29957917731e-11\n",
      "dw error:  8.16201110576e-11\n",
      "db error:  7.82672402146e-12\n"
     ]
    }
   ],
   "source": [
    "from cs231n.layer_utils import affine_relu_forward, affine_relu_backward\n",
    "np.random.seed(231)\n",
    "x = np.random.randn(2, 3, 4)\n",
    "w = np.random.randn(12, 10)\n",
    "b = np.random.randn(10)\n",
    "dout = np.random.randn(2, 10)\n",
    "\n",
    "out, cache = affine_relu_forward(x, w, b)\n",
    "dx, dw, db = affine_relu_backward(dout, cache)\n",
    "\n",
    "dx_num = eval_numerical_gradient_array(lambda x: affine_relu_forward(x, w, b)[0], x, dout)\n",
    "dw_num = eval_numerical_gradient_array(lambda w: affine_relu_forward(x, w, b)[0], w, dout)\n",
    "db_num = eval_numerical_gradient_array(lambda b: affine_relu_forward(x, w, b)[0], b, dout)\n",
    "\n",
    "print('Testing affine_relu_forward:')\n",
    "print('dx error: ', rel_error(dx_num, dx))\n",
    "print('dw error: ', rel_error(dw_num, dw))\n",
    "print('db error: ', rel_error(db_num, db))"
   ]
  },
  {
   "cell_type": "markdown",
   "metadata": {},
   "source": [
    "# Loss layers: Softmax and SVM\n",
    "You implemented these loss functions in the last assignment, so we'll give them to you for free here. You should still make sure you understand how they work by looking at the implementations in `cs231n/layers.py`.\n",
    "\n",
    "You can make sure that the implementations are correct by running the following:"
   ]
  },
  {
   "cell_type": "code",
   "execution_count": 8,
   "metadata": {},
   "outputs": [
    {
     "name": "stdout",
     "output_type": "stream",
     "text": [
      "Testing svm_loss:\n",
      "loss:  8.9996027491\n",
      "dx error:  1.40215660067e-09\n",
      "\n",
      "Testing softmax_loss:\n",
      "loss:  2.3025458445\n",
      "dx error:  9.38467316199e-09\n"
     ]
    }
   ],
   "source": [
    "np.random.seed(231)\n",
    "num_classes, num_inputs = 10, 50\n",
    "x = 0.001 * np.random.randn(num_inputs, num_classes)\n",
    "y = np.random.randint(num_classes, size=num_inputs)\n",
    "\n",
    "dx_num = eval_numerical_gradient(lambda x: svm_loss(x, y)[0], x, verbose=False)\n",
    "loss, dx = svm_loss(x, y)\n",
    "\n",
    "# Test svm_loss function. Loss should be around 9 and dx error should be 1e-9\n",
    "print('Testing svm_loss:')\n",
    "print('loss: ', loss)\n",
    "print('dx error: ', rel_error(dx_num, dx))\n",
    "\n",
    "dx_num = eval_numerical_gradient(lambda x: softmax_loss(x, y)[0], x, verbose=False)\n",
    "loss, dx = softmax_loss(x, y)\n",
    "\n",
    "# Test softmax_loss function. Loss should be 2.3 and dx error should be 1e-8\n",
    "print('\\nTesting softmax_loss:')\n",
    "print('loss: ', loss)\n",
    "print('dx error: ', rel_error(dx_num, dx))"
   ]
  },
  {
   "cell_type": "markdown",
   "metadata": {},
   "source": [
    "# Two-layer network\n",
    "In the previous assignment you implemented a two-layer neural network in a single monolithic class. Now that you have implemented modular versions of the necessary layers, you will reimplement the two layer network using these modular implementations.\n",
    "\n",
    "Open the file `cs231n/classifiers/fc_net.py` and complete the implementation of the `TwoLayerNet` class. This class will serve as a model for the other networks you will implement in this assignment, so read through it to make sure you understand the API. You can run the cell below to test your implementation."
   ]
  },
  {
   "cell_type": "code",
   "execution_count": 9,
   "metadata": {},
   "outputs": [
    {
     "name": "stdout",
     "output_type": "stream",
     "text": [
      "Testing initialization ... \n",
      "Testing test-time forward pass ... \n",
      "Testing training loss (no regularization)\n",
      "Running numeric gradient check with reg =  0.0\n",
      "W1 relative error: 1.83e-08\n",
      "W2 relative error: 3.12e-10\n",
      "b1 relative error: 9.83e-09\n",
      "b2 relative error: 4.33e-10\n",
      "Running numeric gradient check with reg =  0.7\n",
      "W1 relative error: 2.53e-07\n",
      "W2 relative error: 7.98e-08\n",
      "b1 relative error: 1.35e-08\n",
      "b2 relative error: 7.76e-10\n"
     ]
    }
   ],
   "source": [
    "np.random.seed(231)\n",
    "N, D, H, C = 3, 5, 50, 7\n",
    "X = np.random.randn(N, D)\n",
    "y = np.random.randint(C, size=N)\n",
    "\n",
    "std = 1e-3\n",
    "model = TwoLayerNet(input_dim=D, hidden_dim=H, num_classes=C, weight_scale=std)\n",
    "\n",
    "print('Testing initialization ... ')\n",
    "W1_std = abs(model.params['W1'].std() - std)\n",
    "b1 = model.params['b1']\n",
    "W2_std = abs(model.params['W2'].std() - std)\n",
    "b2 = model.params['b2']\n",
    "assert W1_std < std / 10, 'First layer weights do not seem right'\n",
    "assert np.all(b1 == 0), 'First layer biases do not seem right'\n",
    "assert W2_std < std / 10, 'Second layer weights do not seem right'\n",
    "assert np.all(b2 == 0), 'Second layer biases do not seem right'\n",
    "\n",
    "print('Testing test-time forward pass ... ')\n",
    "model.params['W1'] = np.linspace(-0.7, 0.3, num=D*H).reshape(D, H)\n",
    "model.params['b1'] = np.linspace(-0.1, 0.9, num=H)\n",
    "model.params['W2'] = np.linspace(-0.3, 0.4, num=H*C).reshape(H, C)\n",
    "model.params['b2'] = np.linspace(-0.9, 0.1, num=C)\n",
    "X = np.linspace(-5.5, 4.5, num=N*D).reshape(D, N).T\n",
    "scores = model.loss(X)\n",
    "correct_scores = np.asarray(\n",
    "  [[11.53165108,  12.2917344,   13.05181771,  13.81190102,  14.57198434, 15.33206765,  16.09215096],\n",
    "   [12.05769098,  12.74614105,  13.43459113,  14.1230412,   14.81149128, 15.49994135,  16.18839143],\n",
    "   [12.58373087,  13.20054771,  13.81736455,  14.43418138,  15.05099822, 15.66781506,  16.2846319 ]])\n",
    "scores_diff = np.abs(scores - correct_scores).sum()\n",
    "assert scores_diff < 1e-6, 'Problem with test-time forward pass'\n",
    "\n",
    "print('Testing training loss (no regularization)')\n",
    "y = np.asarray([0, 5, 1])\n",
    "loss, grads = model.loss(X, y)\n",
    "correct_loss = 3.4702243556\n",
    "assert abs(loss - correct_loss) < 1e-10, 'Problem with training-time loss'\n",
    "\n",
    "model.reg = 1.0\n",
    "loss, grads = model.loss(X, y)\n",
    "correct_loss = 26.5948426952\n",
    "assert abs(loss - correct_loss) < 1e-10, 'Problem with regularization loss'\n",
    "\n",
    "for reg in [0.0, 0.7]:\n",
    "  print('Running numeric gradient check with reg = ', reg)\n",
    "  model.reg = reg\n",
    "  loss, grads = model.loss(X, y)\n",
    "\n",
    "  for name in sorted(grads):\n",
    "    f = lambda _: model.loss(X, y)[0]\n",
    "    grad_num = eval_numerical_gradient(f, model.params[name], verbose=False)\n",
    "    print('%s relative error: %.2e' % (name, rel_error(grad_num, grads[name])))"
   ]
  },
  {
   "cell_type": "markdown",
   "metadata": {},
   "source": [
    "# Solver\n",
    "In the previous assignment, the logic for training models was coupled to the models themselves. Following a more modular design, for this assignment we have split the logic for training models into a separate class.\n",
    "\n",
    "Open the file `cs231n/solver.py` and read through it to familiarize yourself with the API. After doing so, use a `Solver` instance to train a `TwoLayerNet` that achieves at least `50%` accuracy on the validation set."
   ]
  },
  {
   "cell_type": "code",
   "execution_count": 20,
   "metadata": {},
   "outputs": [
    {
     "name": "stdout",
     "output_type": "stream",
     "text": [
      "(Iteration 1 / 4900) loss: 2.301434\n",
      "(Epoch 0 / 10) train acc: 0.164000; val_acc: 0.134000\n",
      "(Iteration 101 / 4900) loss: 1.824051\n",
      "(Iteration 201 / 4900) loss: 1.961900\n",
      "(Iteration 301 / 4900) loss: 1.613144\n",
      "(Iteration 401 / 4900) loss: 1.495818\n",
      "(Epoch 1 / 10) train acc: 0.450000; val_acc: 0.451000\n",
      "(Iteration 501 / 4900) loss: 1.559456\n",
      "(Iteration 601 / 4900) loss: 1.434346\n",
      "(Iteration 701 / 4900) loss: 1.567562\n",
      "(Iteration 801 / 4900) loss: 1.584184\n",
      "(Iteration 901 / 4900) loss: 1.376831\n",
      "(Epoch 2 / 10) train acc: 0.491000; val_acc: 0.471000\n",
      "(Iteration 1001 / 4900) loss: 1.423952\n",
      "(Iteration 1101 / 4900) loss: 1.417066\n",
      "(Iteration 1201 / 4900) loss: 1.322414\n",
      "(Iteration 1301 / 4900) loss: 1.262702\n",
      "(Iteration 1401 / 4900) loss: 1.401308\n",
      "(Epoch 3 / 10) train acc: 0.515000; val_acc: 0.485000\n",
      "(Iteration 1501 / 4900) loss: 1.378252\n",
      "(Iteration 1601 / 4900) loss: 1.324588\n",
      "(Iteration 1701 / 4900) loss: 1.315362\n",
      "(Iteration 1801 / 4900) loss: 1.420563\n",
      "(Iteration 1901 / 4900) loss: 1.316134\n",
      "(Epoch 4 / 10) train acc: 0.528000; val_acc: 0.506000\n",
      "(Iteration 2001 / 4900) loss: 1.362545\n",
      "(Iteration 2101 / 4900) loss: 1.326978\n",
      "(Iteration 2201 / 4900) loss: 1.403191\n",
      "(Iteration 2301 / 4900) loss: 1.143435\n",
      "(Iteration 2401 / 4900) loss: 1.171549\n",
      "(Epoch 5 / 10) train acc: 0.547000; val_acc: 0.502000\n",
      "(Iteration 2501 / 4900) loss: 1.269112\n",
      "(Iteration 2601 / 4900) loss: 1.201852\n",
      "(Iteration 2701 / 4900) loss: 1.239932\n",
      "(Iteration 2801 / 4900) loss: 1.274406\n",
      "(Iteration 2901 / 4900) loss: 1.190180\n",
      "(Epoch 6 / 10) train acc: 0.575000; val_acc: 0.508000\n",
      "(Iteration 3001 / 4900) loss: 1.104698\n",
      "(Iteration 3101 / 4900) loss: 1.029343\n",
      "(Iteration 3201 / 4900) loss: 1.371358\n",
      "(Iteration 3301 / 4900) loss: 1.204666\n",
      "(Iteration 3401 / 4900) loss: 1.360540\n",
      "(Epoch 7 / 10) train acc: 0.581000; val_acc: 0.499000\n",
      "(Iteration 3501 / 4900) loss: 1.127170\n",
      "(Iteration 3601 / 4900) loss: 1.051471\n",
      "(Iteration 3701 / 4900) loss: 1.218208\n",
      "(Iteration 3801 / 4900) loss: 1.090916\n",
      "(Iteration 3901 / 4900) loss: 0.938176\n",
      "(Epoch 8 / 10) train acc: 0.552000; val_acc: 0.517000\n",
      "(Iteration 4001 / 4900) loss: 1.067186\n",
      "(Iteration 4101 / 4900) loss: 1.159863\n",
      "(Iteration 4201 / 4900) loss: 1.011639\n",
      "(Iteration 4301 / 4900) loss: 0.986215\n",
      "(Iteration 4401 / 4900) loss: 1.436813\n",
      "(Epoch 9 / 10) train acc: 0.617000; val_acc: 0.511000\n",
      "(Iteration 4501 / 4900) loss: 1.115078\n",
      "(Iteration 4601 / 4900) loss: 1.288949\n",
      "(Iteration 4701 / 4900) loss: 1.314302\n",
      "(Iteration 4801 / 4900) loss: 1.044659\n",
      "(Epoch 10 / 10) train acc: 0.610000; val_acc: 0.514000\n",
      "text accuracy : \n",
      "0.525\n"
     ]
    }
   ],
   "source": [
    "model = TwoLayerNet()\n",
    "solver = None\n",
    "\n",
    "##############################################################################\n",
    "# TODO: Use a Solver instance to train a TwoLayerNet that achieves at least  #\n",
    "# 50% accuracy on the validation set.                                        #\n",
    "##############################################################################\n",
    "solver = Solver(model, data,\n",
    "    update_rule='sgd',\n",
    "    optim_config={\n",
    "    'learning_rate': 1e-3,\n",
    "    },\n",
    "    lr_decay=0.8,\n",
    "    num_epochs=10, batch_size=100,\n",
    "    print_every=100)\n",
    "solver.train()\n",
    "scores = model.loss(data['X_test'])\n",
    "y_pred = np.argmax(scores, axis = 1)\n",
    "acc = np.mean(y_pred == data['y_test'])\n",
    "print (\"text accuracy : \")\n",
    "print (acc)\n",
    "pass\n",
    "##############################################################################\n",
    "#                             END OF YOUR CODE                               #\n",
    "##############################################################################"
   ]
  },
  {
   "cell_type": "code",
   "execution_count": 21,
   "metadata": {},
   "outputs": [
    {
     "data": {
      "image/png": "iVBORw0KGgoAAAANSUhEUgAAA20AAALJCAYAAAAnCMuGAAAABHNCSVQICAgIfAhkiAAAAAlwSFlz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\nSZIkSVI7ZmiTJEmSpHbs/wG4Ral2bo24oQAAAABJRU5ErkJggg==\n",
      "text/plain": [
       "<matplotlib.figure.Figure at 0x7f421b8b2f90>"
      ]
     },
     "metadata": {},
     "output_type": "display_data"
    }
   ],
   "source": [
    "# Run this cell to visualize training loss and train / val accuracy\n",
    "\n",
    "plt.subplot(2, 1, 1)\n",
    "plt.title('Training loss')\n",
    "plt.plot(solver.loss_history, 'o')\n",
    "plt.xlabel('Iteration')\n",
    "\n",
    "plt.subplot(2, 1, 2)\n",
    "plt.title('Accuracy')\n",
    "plt.plot(solver.train_acc_history, '-o', label='train')\n",
    "plt.plot(solver.val_acc_history, '-o', label='val')\n",
    "plt.plot([0.5] * len(solver.val_acc_history), 'k--')\n",
    "plt.xlabel('Epoch')\n",
    "plt.legend(loc='lower right')\n",
    "plt.gcf().set_size_inches(15, 12)\n",
    "plt.show()"
   ]
  },
  {
   "cell_type": "markdown",
   "metadata": {},
   "source": [
    "# Multilayer network\n",
    "Next you will implement a fully-connected network with an arbitrary number of hidden layers.\n",
    "\n",
    "Read through the `FullyConnectedNet` class in the file `cs231n/classifiers/fc_net.py`.\n",
    "\n",
    "Implement the initialization, the forward pass, and the backward pass. For the moment don't worry about implementing dropout or batch normalization; we will add those features soon."
   ]
  },
  {
   "cell_type": "markdown",
   "metadata": {},
   "source": [
    "## Initial loss and gradient check"
   ]
  },
  {
   "cell_type": "markdown",
   "metadata": {},
   "source": [
    "As a sanity check, run the following to check the initial loss and to gradient check the network both with and without regularization. Do the initial losses seem reasonable?\n",
    "\n",
    "For gradient checking, you should expect to see errors around 1e-6 or less."
   ]
  },
  {
   "cell_type": "code",
   "execution_count": 28,
   "metadata": {},
   "outputs": [
    {
     "name": "stdout",
     "output_type": "stream",
     "text": [
      "Running check with reg =  0\n",
      "Initial loss:  2.30047908977\n",
      "W1 relative error: 1.48e-07\n",
      "W2 relative error: 2.21e-05\n",
      "W3 relative error: 3.53e-07\n",
      "b1 relative error: 5.38e-09\n",
      "b2 relative error: 2.09e-09\n",
      "b3 relative error: 5.80e-11\n",
      "Running check with reg =  3.14\n",
      "Initial loss:  7.05211477653\n",
      "W1 relative error: 7.36e-09\n",
      "W2 relative error: 6.87e-08\n",
      "W3 relative error: 3.48e-08\n",
      "b1 relative error: 1.48e-08\n",
      "b2 relative error: 1.72e-09\n",
      "b3 relative error: 1.80e-10\n"
     ]
    }
   ],
   "source": [
    "np.random.seed(231)\n",
    "N, D, H1, H2, C = 2, 15, 20, 30, 10\n",
    "X = np.random.randn(N, D)\n",
    "y = np.random.randint(C, size=(N,))\n",
    "\n",
    "for reg in [0, 3.14]:\n",
    "    print('Running check with reg = ', reg)\n",
    "    model = FullyConnectedNet([H1, H2], input_dim=D, num_classes=C,\n",
    "                            reg=reg, weight_scale=5e-2, dtype=np.float64)\n",
    "\n",
    "    loss, grads = model.loss(X, y)\n",
    "    print('Initial loss: ', loss)\n",
    "\n",
    "    for name in sorted(grads):\n",
    "        f = lambda _: model.loss(X, y)[0]\n",
    "        grad_num = eval_numerical_gradient(f, model.params[name], verbose=False, h=1e-5)\n",
    "        print('%s relative error: %.2e' % (name, rel_error(grad_num, grads[name])))"
   ]
  },
  {
   "cell_type": "markdown",
   "metadata": {},
   "source": [
    "As another sanity check, make sure you can overfit a small dataset of 50 images. First we will try a three-layer network with 100 units in each hidden layer. You will need to tweak the learning rate and initialization scale, but you should be able to overfit and achieve 100% training accuracy within 20 epochs."
   ]
  },
  {
   "cell_type": "code",
   "execution_count": 32,
   "metadata": {
    "scrolled": false
   },
   "outputs": [
    {
     "name": "stdout",
     "output_type": "stream",
     "text": [
      "(Iteration 1 / 40) loss: 2.291715\n",
      "(Epoch 0 / 20) train acc: 0.260000; val_acc: 0.092000\n",
      "(Epoch 1 / 20) train acc: 0.360000; val_acc: 0.092000\n",
      "(Epoch 2 / 20) train acc: 0.320000; val_acc: 0.113000\n",
      "(Epoch 3 / 20) train acc: 0.420000; val_acc: 0.127000\n",
      "(Epoch 4 / 20) train acc: 0.560000; val_acc: 0.129000\n",
      "(Epoch 5 / 20) train acc: 0.600000; val_acc: 0.161000\n",
      "(Iteration 11 / 40) loss: 1.205168\n",
      "(Epoch 6 / 20) train acc: 0.720000; val_acc: 0.162000\n",
      "(Epoch 7 / 20) train acc: 0.740000; val_acc: 0.153000\n",
      "(Epoch 8 / 20) train acc: 0.880000; val_acc: 0.168000\n",
      "(Epoch 9 / 20) train acc: 0.960000; val_acc: 0.180000\n",
      "(Epoch 10 / 20) train acc: 0.900000; val_acc: 0.172000\n",
      "(Iteration 21 / 40) loss: 0.411613\n",
      "(Epoch 11 / 20) train acc: 0.940000; val_acc: 0.174000\n",
      "(Epoch 12 / 20) train acc: 1.000000; val_acc: 0.197000\n",
      "(Epoch 13 / 20) train acc: 1.000000; val_acc: 0.182000\n",
      "(Epoch 14 / 20) train acc: 1.000000; val_acc: 0.179000\n",
      "(Epoch 15 / 20) train acc: 1.000000; val_acc: 0.169000\n",
      "(Iteration 31 / 40) loss: 0.119268\n",
      "(Epoch 16 / 20) train acc: 1.000000; val_acc: 0.172000\n",
      "(Epoch 17 / 20) train acc: 1.000000; val_acc: 0.164000\n",
      "(Epoch 18 / 20) train acc: 1.000000; val_acc: 0.178000\n",
      "(Epoch 19 / 20) train acc: 1.000000; val_acc: 0.183000\n",
      "(Epoch 20 / 20) train acc: 1.000000; val_acc: 0.178000\n"
     ]
    },
    {
     "data": {
      "image/png": "iVBORw0KGgoAAAANSUhEUgAAAmQAAAHwCAYAAAAIDnN0AAAABHNCSVQICAgIfAhkiAAAAAlwSFlz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\nmUAGANCZQAYA0JlABgDQ2f8PCFddL903D+kAAAAASUVORK5CYII=\n",
      "text/plain": [
       "<matplotlib.figure.Figure at 0x7f4219de3210>"
      ]
     },
     "metadata": {},
     "output_type": "display_data"
    }
   ],
   "source": [
    "# TODO: Use a three-layer Net to overfit 50 training examples.\n",
    "\n",
    "num_train = 50\n",
    "small_data = {\n",
    "  'X_train': data['X_train'][:num_train],\n",
    "  'y_train': data['y_train'][:num_train],\n",
    "  'X_val': data['X_val'],\n",
    "  'y_val': data['y_val'],\n",
    "}\n",
    "\n",
    "weight_scale = 1e-2\n",
    "learning_rate = 8e-3\n",
    "model = FullyConnectedNet([100, 100],\n",
    "              weight_scale=weight_scale, dtype=np.float64)\n",
    "solver = Solver(model, small_data,\n",
    "                print_every=10, num_epochs=20, batch_size=25,\n",
    "                update_rule='sgd',\n",
    "                optim_config={\n",
    "                  'learning_rate': learning_rate,\n",
    "                }\n",
    "         )\n",
    "solver.train()\n",
    "\n",
    "plt.plot(solver.loss_history, 'o')\n",
    "plt.title('Training loss history')\n",
    "plt.xlabel('Iteration')\n",
    "plt.ylabel('Training loss')\n",
    "plt.show()"
   ]
  },
  {
   "cell_type": "markdown",
   "metadata": {},
   "source": [
    "Now try to use a five-layer network with 100 units on each layer to overfit 50 training examples. Again you will have to adjust the learning rate and weight initialization, but you should be able to achieve 100% training accuracy within 20 epochs."
   ]
  },
  {
   "cell_type": "code",
   "execution_count": 33,
   "metadata": {},
   "outputs": [
    {
     "name": "stdout",
     "output_type": "stream",
     "text": [
      "(Iteration 1 / 40) loss: 114.437809\n",
      "(Epoch 0 / 20) train acc: 0.160000; val_acc: 0.075000\n",
      "(Epoch 1 / 20) train acc: 0.200000; val_acc: 0.080000\n",
      "(Epoch 2 / 20) train acc: 0.360000; val_acc: 0.116000\n",
      "(Epoch 3 / 20) train acc: 0.380000; val_acc: 0.097000\n",
      "(Epoch 4 / 20) train acc: 0.600000; val_acc: 0.089000\n",
      "(Epoch 5 / 20) train acc: 0.600000; val_acc: 0.097000\n",
      "(Iteration 11 / 40) loss: 6.047619\n",
      "(Epoch 6 / 20) train acc: 0.700000; val_acc: 0.093000\n",
      "(Epoch 7 / 20) train acc: 0.840000; val_acc: 0.104000\n",
      "(Epoch 8 / 20) train acc: 0.900000; val_acc: 0.100000\n",
      "(Epoch 9 / 20) train acc: 0.860000; val_acc: 0.098000\n",
      "(Epoch 10 / 20) train acc: 0.920000; val_acc: 0.108000\n",
      "(Iteration 21 / 40) loss: 0.006580\n",
      "(Epoch 11 / 20) train acc: 0.940000; val_acc: 0.100000\n",
      "(Epoch 12 / 20) train acc: 0.980000; val_acc: 0.101000\n",
      "(Epoch 13 / 20) train acc: 0.980000; val_acc: 0.100000\n",
      "(Epoch 14 / 20) train acc: 0.980000; val_acc: 0.101000\n",
      "(Epoch 15 / 20) train acc: 1.000000; val_acc: 0.101000\n",
      "(Iteration 31 / 40) loss: 0.000729\n",
      "(Epoch 16 / 20) train acc: 1.000000; val_acc: 0.101000\n",
      "(Epoch 17 / 20) train acc: 1.000000; val_acc: 0.102000\n",
      "(Epoch 18 / 20) train acc: 1.000000; val_acc: 0.102000\n",
      "(Epoch 19 / 20) train acc: 1.000000; val_acc: 0.102000\n",
      "(Epoch 20 / 20) train acc: 1.000000; val_acc: 0.102000\n"
     ]
    },
    {
     "data": {
      "image/png": "iVBORw0KGgoAAAANSUhEUgAAAmcAAAHwCAYAAADjOch3AAAABHNCSVQICAgIfAhkiAAAAAlwSFlz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\nyP8HH9ANZoH8ZHsAAAAASUVORK5CYII=\n",
      "text/plain": [
       "<matplotlib.figure.Figure at 0x7f4219d60150>"
      ]
     },
     "metadata": {},
     "output_type": "display_data"
    }
   ],
   "source": [
    "# TODO: Use a five-layer Net to overfit 50 training examples.\n",
    "\n",
    "num_train = 50\n",
    "small_data = {\n",
    "  'X_train': data['X_train'][:num_train],\n",
    "  'y_train': data['y_train'][:num_train],\n",
    "  'X_val': data['X_val'],\n",
    "  'y_val': data['y_val'],\n",
    "}\n",
    "\n",
    "learning_rate = 3e-4\n",
    "weight_scale = 1e-1\n",
    "model = FullyConnectedNet([100, 100, 100, 100],\n",
    "                weight_scale=weight_scale, dtype=np.float64)\n",
    "solver = Solver(model, small_data,\n",
    "                print_every=10, num_epochs=20, batch_size=25,\n",
    "                update_rule='sgd',\n",
    "                optim_config={\n",
    "                  'learning_rate': learning_rate,\n",
    "                }\n",
    "         )\n",
    "solver.train()\n",
    "\n",
    "plt.plot(solver.loss_history, 'o')\n",
    "plt.title('Training loss history')\n",
    "plt.xlabel('Iteration')\n",
    "plt.ylabel('Training loss')\n",
    "plt.show()"
   ]
  },
  {
   "cell_type": "markdown",
   "metadata": {},
   "source": [
    "# Inline question: \n",
    "Did you notice anything about the comparative difficulty of training the three-layer net vs training the five layer net?\n",
    "\n",
    "# Answer:\n",
    "While I tuning the hyperparameters of the five layer, I find the min loss is more sensitive to the weight_scale which make the loss function converge to a local minimum easily. I think this phenomenon happened beacause the high capacity of the five layer also make the five layer net's loss function more complex and harder to optimal domain than the three layer net and much more sensitive to initialization.\n"
   ]
  },
  {
   "cell_type": "markdown",
   "metadata": {},
   "source": [
    "# Update rules\n",
    "So far we have used vanilla stochastic gradient descent (SGD) as our update rule. More sophisticated update rules can make it easier to train deep networks. We will implement a few of the most commonly used update rules and compare them to vanilla SGD."
   ]
  },
  {
   "cell_type": "markdown",
   "metadata": {},
   "source": [
    "# SGD+Momentum\n",
    "Stochastic gradient descent with momentum is a widely used update rule that tends to make deep networks converge faster than vanilla stochstic gradient descent.\n",
    "\n",
    "Open the file `cs231n/optim.py` and read the documentation at the top of the file to make sure you understand the API. Implement the SGD+momentum update rule in the function `sgd_momentum` and run the following to check your implementation. You should see errors less than 1e-8."
   ]
  },
  {
   "cell_type": "code",
   "execution_count": 34,
   "metadata": {},
   "outputs": [
    {
     "name": "stdout",
     "output_type": "stream",
     "text": [
      "next_w error:  8.88234703351e-09\n",
      "velocity error:  4.26928774328e-09\n"
     ]
    }
   ],
   "source": [
    "from cs231n.optim import sgd_momentum\n",
    "\n",
    "N, D = 4, 5\n",
    "w = np.linspace(-0.4, 0.6, num=N*D).reshape(N, D)\n",
    "dw = np.linspace(-0.6, 0.4, num=N*D).reshape(N, D)\n",
    "v = np.linspace(0.6, 0.9, num=N*D).reshape(N, D)\n",
    "\n",
    "config = {'learning_rate': 1e-3, 'velocity': v}\n",
    "next_w, _ = sgd_momentum(w, dw, config=config)\n",
    "\n",
    "expected_next_w = np.asarray([\n",
    "  [ 0.1406,      0.20738947,  0.27417895,  0.34096842,  0.40775789],\n",
    "  [ 0.47454737,  0.54133684,  0.60812632,  0.67491579,  0.74170526],\n",
    "  [ 0.80849474,  0.87528421,  0.94207368,  1.00886316,  1.07565263],\n",
    "  [ 1.14244211,  1.20923158,  1.27602105,  1.34281053,  1.4096    ]])\n",
    "expected_velocity = np.asarray([\n",
    "  [ 0.5406,      0.55475789,  0.56891579, 0.58307368,  0.59723158],\n",
    "  [ 0.61138947,  0.62554737,  0.63970526,  0.65386316,  0.66802105],\n",
    "  [ 0.68217895,  0.69633684,  0.71049474,  0.72465263,  0.73881053],\n",
    "  [ 0.75296842,  0.76712632,  0.78128421,  0.79544211,  0.8096    ]])\n",
    "\n",
    "print('next_w error: ', rel_error(next_w, expected_next_w))\n",
    "print('velocity error: ', rel_error(expected_velocity, config['velocity']))"
   ]
  },
  {
   "cell_type": "markdown",
   "metadata": {},
   "source": [
    "Once you have done so, run the following to train a six-layer network with both SGD and SGD+momentum. You should see the SGD+momentum update rule converge faster."
   ]
  },
  {
   "cell_type": "code",
   "execution_count": 35,
   "metadata": {
    "scrolled": false
   },
   "outputs": [
    {
     "name": "stdout",
     "output_type": "stream",
     "text": [
      "running with  sgd\n",
      "(Iteration 1 / 200) loss: 2.519123\n",
      "(Epoch 0 / 5) train acc: 0.116000; val_acc: 0.101000\n",
      "(Iteration 11 / 200) loss: 2.304481\n",
      "(Iteration 21 / 200) loss: 2.113257\n",
      "(Iteration 31 / 200) loss: 2.091689\n",
      "(Epoch 1 / 5) train acc: 0.249000; val_acc: 0.268000\n",
      "(Iteration 41 / 200) loss: 2.015916\n",
      "(Iteration 51 / 200) loss: 1.795207\n",
      "(Iteration 61 / 200) loss: 1.964228\n",
      "(Iteration 71 / 200) loss: 1.932847\n",
      "(Epoch 2 / 5) train acc: 0.314000; val_acc: 0.277000\n",
      "(Iteration 81 / 200) loss: 1.909940\n",
      "(Iteration 91 / 200) loss: 1.825575\n",
      "(Iteration 101 / 200) loss: 2.000576\n",
      "(Iteration 111 / 200) loss: 1.692897\n",
      "(Epoch 3 / 5) train acc: 0.391000; val_acc: 0.320000\n",
      "(Iteration 121 / 200) loss: 1.804295\n",
      "(Iteration 131 / 200) loss: 1.763878\n",
      "(Iteration 141 / 200) loss: 1.728233\n",
      "(Iteration 151 / 200) loss: 1.624246\n",
      "(Epoch 4 / 5) train acc: 0.433000; val_acc: 0.322000\n",
      "(Iteration 161 / 200) loss: 1.615803\n",
      "(Iteration 171 / 200) loss: 1.708169\n",
      "(Iteration 181 / 200) loss: 1.764465\n",
      "(Iteration 191 / 200) loss: 1.669938\n",
      "(Epoch 5 / 5) train acc: 0.442000; val_acc: 0.333000\n",
      "\n",
      "running with  sgd_momentum\n",
      "(Iteration 1 / 200) loss: 2.590454\n",
      "(Epoch 0 / 5) train acc: 0.108000; val_acc: 0.105000\n",
      "(Iteration 11 / 200) loss: 2.139198\n",
      "(Iteration 21 / 200) loss: 2.022521\n",
      "(Iteration 31 / 200) loss: 1.833203\n",
      "(Epoch 1 / 5) train acc: 0.315000; val_acc: 0.282000\n",
      "(Iteration 41 / 200) loss: 1.926222\n",
      "(Iteration 51 / 200) loss: 1.945226\n",
      "(Iteration 61 / 200) loss: 1.901407\n",
      "(Iteration 71 / 200) loss: 1.611754\n",
      "(Epoch 2 / 5) train acc: 0.408000; val_acc: 0.331000\n",
      "(Iteration 81 / 200) loss: 1.512253\n",
      "(Iteration 91 / 200) loss: 1.609351\n",
      "(Iteration 101 / 200) loss: 1.532683\n",
      "(Iteration 111 / 200) loss: 1.618268\n",
      "(Epoch 3 / 5) train acc: 0.428000; val_acc: 0.362000\n",
      "(Iteration 121 / 200) loss: 1.498301\n",
      "(Iteration 131 / 200) loss: 1.486521\n",
      "(Iteration 141 / 200) loss: 1.422879\n",
      "(Iteration 151 / 200) loss: 1.524019\n",
      "(Epoch 4 / 5) train acc: 0.511000; val_acc: 0.330000\n",
      "(Iteration 161 / 200) loss: 1.631929\n",
      "(Iteration 171 / 200) loss: 1.573062\n",
      "(Iteration 181 / 200) loss: 1.314178\n",
      "(Iteration 191 / 200) loss: 1.283497\n",
      "(Epoch 5 / 5) train acc: 0.502000; val_acc: 0.319000\n",
      "\n"
     ]
    },
    {
     "data": {
      "image/png": "iVBORw0KGgoAAAANSUhEUgAAA3QAAANsCAYAAAATFepNAAAABHNCSVQICAgIfAhkiAAAAAlwSFlz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\nkiRJktqo/we2LiWq1vz+GQAAAABJRU5ErkJggg==\n",
      "text/plain": [
       "<matplotlib.figure.Figure at 0x7f4219b98b10>"
      ]
     },
     "metadata": {},
     "output_type": "display_data"
    }
   ],
   "source": [
    "num_train = 4000\n",
    "small_data = {\n",
    "  'X_train': data['X_train'][:num_train],\n",
    "  'y_train': data['y_train'][:num_train],\n",
    "  'X_val': data['X_val'],\n",
    "  'y_val': data['y_val'],\n",
    "}\n",
    "\n",
    "solvers = {}\n",
    "\n",
    "for update_rule in ['sgd', 'sgd_momentum']:\n",
    "  print('running with ', update_rule)\n",
    "  model = FullyConnectedNet([100, 100, 100, 100, 100], weight_scale=5e-2)\n",
    "\n",
    "  solver = Solver(model, small_data,\n",
    "                  num_epochs=5, batch_size=100,\n",
    "                  update_rule=update_rule,\n",
    "                  optim_config={\n",
    "                    'learning_rate': 1e-2,\n",
    "                  },\n",
    "                  verbose=True)\n",
    "  solvers[update_rule] = solver\n",
    "  solver.train()\n",
    "  print()\n",
    "\n",
    "plt.subplot(3, 1, 1)\n",
    "plt.title('Training loss')\n",
    "plt.xlabel('Iteration')\n",
    "\n",
    "plt.subplot(3, 1, 2)\n",
    "plt.title('Training accuracy')\n",
    "plt.xlabel('Epoch')\n",
    "\n",
    "plt.subplot(3, 1, 3)\n",
    "plt.title('Validation accuracy')\n",
    "plt.xlabel('Epoch')\n",
    "\n",
    "for update_rule, solver in list(solvers.items()):\n",
    "  plt.subplot(3, 1, 1)\n",
    "  plt.plot(solver.loss_history, 'o', label=update_rule)\n",
    "  \n",
    "  plt.subplot(3, 1, 2)\n",
    "  plt.plot(solver.train_acc_history, '-o', label=update_rule)\n",
    "\n",
    "  plt.subplot(3, 1, 3)\n",
    "  plt.plot(solver.val_acc_history, '-o', label=update_rule)\n",
    "  \n",
    "for i in [1, 2, 3]:\n",
    "  plt.subplot(3, 1, i)\n",
    "  plt.legend(loc='upper center', ncol=4)\n",
    "plt.gcf().set_size_inches(15, 15)\n",
    "plt.show()"
   ]
  },
  {
   "cell_type": "markdown",
   "metadata": {},
   "source": [
    "# RMSProp and Adam\n",
    "RMSProp [1] and Adam [2] are update rules that set per-parameter learning rates by using a running average of the second moments of gradients.\n",
    "\n",
    "In the file `cs231n/optim.py`, implement the RMSProp update rule in the `rmsprop` function and implement the Adam update rule in the `adam` function, and check your implementations using the tests below.\n",
    "\n",
    "[1] Tijmen Tieleman and Geoffrey Hinton. \"Lecture 6.5-rmsprop: Divide the gradient by a running average of its recent magnitude.\" COURSERA: Neural Networks for Machine Learning 4 (2012).\n",
    "\n",
    "[2] Diederik Kingma and Jimmy Ba, \"Adam: A Method for Stochastic Optimization\", ICLR 2015."
   ]
  },
  {
   "cell_type": "code",
   "execution_count": 36,
   "metadata": {},
   "outputs": [
    {
     "name": "stdout",
     "output_type": "stream",
     "text": [
      "next_w error:  9.52468751104e-08\n",
      "cache error:  2.64779558072e-09\n"
     ]
    }
   ],
   "source": [
    "# Test RMSProp implementation; you should see errors less than 1e-7\n",
    "from cs231n.optim import rmsprop\n",
    "\n",
    "N, D = 4, 5\n",
    "w = np.linspace(-0.4, 0.6, num=N*D).reshape(N, D)\n",
    "dw = np.linspace(-0.6, 0.4, num=N*D).reshape(N, D)\n",
    "cache = np.linspace(0.6, 0.9, num=N*D).reshape(N, D)\n",
    "\n",
    "config = {'learning_rate': 1e-2, 'cache': cache}\n",
    "next_w, _ = rmsprop(w, dw, config=config)\n",
    "\n",
    "expected_next_w = np.asarray([\n",
    "  [-0.39223849, -0.34037513, -0.28849239, -0.23659121, -0.18467247],\n",
    "  [-0.132737,   -0.08078555, -0.02881884,  0.02316247,  0.07515774],\n",
    "  [ 0.12716641,  0.17918792,  0.23122175,  0.28326742,  0.33532447],\n",
    "  [ 0.38739248,  0.43947102,  0.49155973,  0.54365823,  0.59576619]])\n",
    "expected_cache = np.asarray([\n",
    "  [ 0.5976,      0.6126277,   0.6277108,   0.64284931,  0.65804321],\n",
    "  [ 0.67329252,  0.68859723,  0.70395734,  0.71937285,  0.73484377],\n",
    "  [ 0.75037008,  0.7659518,   0.78158892,  0.79728144,  0.81302936],\n",
    "  [ 0.82883269,  0.84469141,  0.86060554,  0.87657507,  0.8926    ]])\n",
    "\n",
    "print('next_w error: ', rel_error(expected_next_w, next_w))\n",
    "print('cache error: ', rel_error(expected_cache, config['cache']))"
   ]
  },
  {
   "cell_type": "code",
   "execution_count": 37,
   "metadata": {},
   "outputs": [
    {
     "name": "stdout",
     "output_type": "stream",
     "text": [
      "next_w error:  1.13956917985e-07\n",
      "v error:  4.20831403811e-09\n",
      "m error:  4.21496319311e-09\n"
     ]
    }
   ],
   "source": [
    "# Test Adam implementation; you should see errors around 1e-7 or less\n",
    "from cs231n.optim import adam\n",
    "\n",
    "N, D = 4, 5\n",
    "w = np.linspace(-0.4, 0.6, num=N*D).reshape(N, D)\n",
    "dw = np.linspace(-0.6, 0.4, num=N*D).reshape(N, D)\n",
    "m = np.linspace(0.6, 0.9, num=N*D).reshape(N, D)\n",
    "v = np.linspace(0.7, 0.5, num=N*D).reshape(N, D)\n",
    "\n",
    "config = {'learning_rate': 1e-2, 'm': m, 'v': v, 't': 5}\n",
    "next_w, _ = adam(w, dw, config=config)\n",
    "\n",
    "expected_next_w = np.asarray([\n",
    "  [-0.40094747, -0.34836187, -0.29577703, -0.24319299, -0.19060977],\n",
    "  [-0.1380274,  -0.08544591, -0.03286534,  0.01971428,  0.0722929],\n",
    "  [ 0.1248705,   0.17744702,  0.23002243,  0.28259667,  0.33516969],\n",
    "  [ 0.38774145,  0.44031188,  0.49288093,  0.54544852,  0.59801459]])\n",
    "expected_v = np.asarray([\n",
    "  [ 0.69966,     0.68908382,  0.67851319,  0.66794809,  0.65738853,],\n",
    "  [ 0.64683452,  0.63628604,  0.6257431,   0.61520571,  0.60467385,],\n",
    "  [ 0.59414753,  0.58362676,  0.57311152,  0.56260183,  0.55209767,],\n",
    "  [ 0.54159906,  0.53110598,  0.52061845,  0.51013645,  0.49966,   ]])\n",
    "expected_m = np.asarray([\n",
    "  [ 0.48,        0.49947368,  0.51894737,  0.53842105,  0.55789474],\n",
    "  [ 0.57736842,  0.59684211,  0.61631579,  0.63578947,  0.65526316],\n",
    "  [ 0.67473684,  0.69421053,  0.71368421,  0.73315789,  0.75263158],\n",
    "  [ 0.77210526,  0.79157895,  0.81105263,  0.83052632,  0.85      ]])\n",
    "\n",
    "print('next_w error: ', rel_error(expected_next_w, next_w))\n",
    "print('v error: ', rel_error(expected_v, config['v']))\n",
    "print('m error: ', rel_error(expected_m, config['m']))"
   ]
  },
  {
   "cell_type": "markdown",
   "metadata": {},
   "source": [
    "Once you have debugged your RMSProp and Adam implementations, run the following to train a pair of deep networks using these new update rules:"
   ]
  },
  {
   "cell_type": "code",
   "execution_count": 38,
   "metadata": {},
   "outputs": [
    {
     "name": "stdout",
     "output_type": "stream",
     "text": [
      "running with  adam\n",
      "(Iteration 1 / 200) loss: 2.571996\n",
      "(Epoch 0 / 5) train acc: 0.108000; val_acc: 0.133000\n",
      "(Iteration 11 / 200) loss: 2.108000\n",
      "(Iteration 21 / 200) loss: 2.034616\n",
      "(Iteration 31 / 200) loss: 1.835123\n",
      "(Epoch 1 / 5) train acc: 0.350000; val_acc: 0.304000\n",
      "(Iteration 41 / 200) loss: 1.838943\n",
      "(Iteration 51 / 200) loss: 1.667168\n",
      "(Iteration 61 / 200) loss: 1.564333\n",
      "(Iteration 71 / 200) loss: 1.722312\n",
      "(Epoch 2 / 5) train acc: 0.438000; val_acc: 0.352000\n",
      "(Iteration 81 / 200) loss: 1.569274\n",
      "(Iteration 91 / 200) loss: 1.475933\n",
      "(Iteration 101 / 200) loss: 1.481853\n",
      "(Iteration 111 / 200) loss: 1.519756\n",
      "(Epoch 3 / 5) train acc: 0.515000; val_acc: 0.368000\n",
      "(Iteration 121 / 200) loss: 1.314181\n",
      "(Iteration 131 / 200) loss: 1.250407\n",
      "(Iteration 141 / 200) loss: 1.142766\n",
      "(Iteration 151 / 200) loss: 1.346331\n",
      "(Epoch 4 / 5) train acc: 0.538000; val_acc: 0.376000\n",
      "(Iteration 161 / 200) loss: 1.315731\n",
      "(Iteration 171 / 200) loss: 1.394402\n",
      "(Iteration 181 / 200) loss: 1.322496\n",
      "(Iteration 191 / 200) loss: 1.100697\n",
      "(Epoch 5 / 5) train acc: 0.592000; val_acc: 0.374000\n",
      "\n",
      "running with  rmsprop\n",
      "(Iteration 1 / 200) loss: 3.255249\n",
      "(Epoch 0 / 5) train acc: 0.139000; val_acc: 0.122000\n",
      "(Iteration 11 / 200) loss: 2.123047\n",
      "(Iteration 21 / 200) loss: 1.845899\n",
      "(Iteration 31 / 200) loss: 1.903311\n",
      "(Epoch 1 / 5) train acc: 0.349000; val_acc: 0.283000\n",
      "(Iteration 41 / 200) loss: 1.772277\n",
      "(Iteration 51 / 200) loss: 1.849955\n",
      "(Iteration 61 / 200) loss: 1.721877\n",
      "(Iteration 71 / 200) loss: 1.718167\n",
      "(Epoch 2 / 5) train acc: 0.423000; val_acc: 0.327000\n",
      "(Iteration 81 / 200) loss: 1.761310\n",
      "(Iteration 91 / 200) loss: 1.623976\n",
      "(Iteration 101 / 200) loss: 1.513319\n",
      "(Iteration 111 / 200) loss: 1.532818\n",
      "(Epoch 3 / 5) train acc: 0.435000; val_acc: 0.345000\n",
      "(Iteration 121 / 200) loss: 1.724881\n",
      "(Iteration 131 / 200) loss: 1.624013\n",
      "(Iteration 141 / 200) loss: 1.488603\n",
      "(Iteration 151 / 200) loss: 1.544319\n",
      "(Epoch 4 / 5) train acc: 0.505000; val_acc: 0.362000\n",
      "(Iteration 161 / 200) loss: 1.539034\n",
      "(Iteration 171 / 200) loss: 1.555535\n",
      "(Iteration 181 / 200) loss: 1.560197\n",
      "(Iteration 191 / 200) loss: 1.272858\n",
      "(Epoch 5 / 5) train acc: 0.541000; val_acc: 0.358000\n",
      "\n"
     ]
    },
    {
     "data": {
      "image/png": "iVBORw0KGgoAAAANSUhEUgAAA3QAAANsCAYAAAATFepNAAAABHNCSVQICAgIfAhkiAAAAAlwSFlz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\nkUJKgU5ERERERKSQUqATEREREREppP4fCVsaZ+H8Dv4AAAAASUVORK5CYII=\n",
      "text/plain": [
       "<matplotlib.figure.Figure at 0x7f4219905e50>"
      ]
     },
     "metadata": {},
     "output_type": "display_data"
    }
   ],
   "source": [
    "learning_rates = {'rmsprop': 1e-4, 'adam': 1e-3}\n",
    "for update_rule in ['adam', 'rmsprop']:\n",
    "  print('running with ', update_rule)\n",
    "  model = FullyConnectedNet([100, 100, 100, 100, 100], weight_scale=5e-2)\n",
    "\n",
    "  solver = Solver(model, small_data,\n",
    "                  num_epochs=5, batch_size=100,\n",
    "                  update_rule=update_rule,\n",
    "                  optim_config={\n",
    "                    'learning_rate': learning_rates[update_rule]\n",
    "                  },\n",
    "                  verbose=True)\n",
    "  solvers[update_rule] = solver\n",
    "  solver.train()\n",
    "  print()\n",
    "\n",
    "plt.subplot(3, 1, 1)\n",
    "plt.title('Training loss')\n",
    "plt.xlabel('Iteration')\n",
    "\n",
    "plt.subplot(3, 1, 2)\n",
    "plt.title('Training accuracy')\n",
    "plt.xlabel('Epoch')\n",
    "\n",
    "plt.subplot(3, 1, 3)\n",
    "plt.title('Validation accuracy')\n",
    "plt.xlabel('Epoch')\n",
    "\n",
    "for update_rule, solver in list(solvers.items()):\n",
    "  plt.subplot(3, 1, 1)\n",
    "  plt.plot(solver.loss_history, 'o', label=update_rule)\n",
    "  \n",
    "  plt.subplot(3, 1, 2)\n",
    "  plt.plot(solver.train_acc_history, '-o', label=update_rule)\n",
    "\n",
    "  plt.subplot(3, 1, 3)\n",
    "  plt.plot(solver.val_acc_history, '-o', label=update_rule)\n",
    "  \n",
    "for i in [1, 2, 3]:\n",
    "  plt.subplot(3, 1, i)\n",
    "  plt.legend(loc='upper center', ncol=4)\n",
    "plt.gcf().set_size_inches(15, 15)\n",
    "plt.show()"
   ]
  },
  {
   "cell_type": "markdown",
   "metadata": {},
   "source": [
    "# Train a good model!\n",
    "Train the best fully-connected model that you can on CIFAR-10, storing your best model in the `best_model` variable. We require you to get at least 50% accuracy on the validation set using a fully-connected net.\n",
    "\n",
    "If you are careful it should be possible to get accuracies above 55%, but we don't require it for this part and won't assign extra credit for doing so. Later in the assignment we will ask you to train the best convolutional network that you can on CIFAR-10, and we would prefer that you spend your effort working on convolutional nets rather than fully-connected nets.\n",
    "\n",
    "You might find it useful to complete the `BatchNormalization.ipynb` and `Dropout.ipynb` notebooks before completing this part, since those techniques can help you train powerful models."
   ]
  },
  {
   "cell_type": "code",
   "execution_count": 40,
   "metadata": {
    "scrolled": false
   },
   "outputs": [
    {
     "ename": "NameError",
     "evalue": "global name 'affine_bn_relu_forward' is not defined",
     "output_type": "error",
     "traceback": [
      "\u001b[0;31m---------------------------------------------------------------------------\u001b[0m",
      "\u001b[0;31mNameError\u001b[0m                                 Traceback (most recent call last)",
      "\u001b[0;32m<ipython-input-40-9f6e24f0d213>\u001b[0m in \u001b[0;36m<module>\u001b[0;34m()\u001b[0m\n\u001b[1;32m     24\u001b[0m          )\n\u001b[1;32m     25\u001b[0m \u001b[0;34m\u001b[0m\u001b[0m\n\u001b[0;32m---> 26\u001b[0;31m \u001b[0msolver\u001b[0m\u001b[0;34m.\u001b[0m\u001b[0mtrain\u001b[0m\u001b[0;34m(\u001b[0m\u001b[0;34m)\u001b[0m\u001b[0;34m\u001b[0m\u001b[0m\n\u001b[0m\u001b[1;32m     27\u001b[0m \u001b[0mscores\u001b[0m \u001b[0;34m=\u001b[0m \u001b[0mmodel\u001b[0m\u001b[0;34m.\u001b[0m\u001b[0mloss\u001b[0m\u001b[0;34m(\u001b[0m\u001b[0mdata\u001b[0m\u001b[0;34m[\u001b[0m\u001b[0;34m'X_test'\u001b[0m\u001b[0;34m]\u001b[0m\u001b[0;34m)\u001b[0m\u001b[0;34m\u001b[0m\u001b[0m\n\u001b[1;32m     28\u001b[0m \u001b[0my_pred\u001b[0m \u001b[0;34m=\u001b[0m \u001b[0mnp\u001b[0m\u001b[0;34m.\u001b[0m\u001b[0margmax\u001b[0m\u001b[0;34m(\u001b[0m\u001b[0mscores\u001b[0m\u001b[0;34m,\u001b[0m \u001b[0maxis\u001b[0m \u001b[0;34m=\u001b[0m \u001b[0;36m1\u001b[0m\u001b[0;34m)\u001b[0m\u001b[0;34m\u001b[0m\u001b[0m\n",
      "\u001b[0;32m/home/kalmpink/assignment2/cs231n/solver.pyc\u001b[0m in \u001b[0;36mtrain\u001b[0;34m(self)\u001b[0m\n\u001b[1;32m    264\u001b[0m \u001b[0;34m\u001b[0m\u001b[0m\n\u001b[1;32m    265\u001b[0m         \u001b[0;32mfor\u001b[0m \u001b[0mt\u001b[0m \u001b[0;32min\u001b[0m \u001b[0mrange\u001b[0m\u001b[0;34m(\u001b[0m\u001b[0mnum_iterations\u001b[0m\u001b[0;34m)\u001b[0m\u001b[0;34m:\u001b[0m\u001b[0;34m\u001b[0m\u001b[0m\n\u001b[0;32m--> 266\u001b[0;31m             \u001b[0mself\u001b[0m\u001b[0;34m.\u001b[0m\u001b[0m_step\u001b[0m\u001b[0;34m(\u001b[0m\u001b[0;34m)\u001b[0m\u001b[0;34m\u001b[0m\u001b[0m\n\u001b[0m\u001b[1;32m    267\u001b[0m \u001b[0;34m\u001b[0m\u001b[0m\n\u001b[1;32m    268\u001b[0m             \u001b[0;31m# Maybe print training loss\u001b[0m\u001b[0;34m\u001b[0m\u001b[0;34m\u001b[0m\u001b[0m\n",
      "\u001b[0;32m/home/kalmpink/assignment2/cs231n/solver.pyc\u001b[0m in \u001b[0;36m_step\u001b[0;34m(self)\u001b[0m\n\u001b[1;32m    180\u001b[0m \u001b[0;34m\u001b[0m\u001b[0m\n\u001b[1;32m    181\u001b[0m         \u001b[0;31m# Compute loss and gradient\u001b[0m\u001b[0;34m\u001b[0m\u001b[0;34m\u001b[0m\u001b[0m\n\u001b[0;32m--> 182\u001b[0;31m         \u001b[0mloss\u001b[0m\u001b[0;34m,\u001b[0m \u001b[0mgrads\u001b[0m \u001b[0;34m=\u001b[0m \u001b[0mself\u001b[0m\u001b[0;34m.\u001b[0m\u001b[0mmodel\u001b[0m\u001b[0;34m.\u001b[0m\u001b[0mloss\u001b[0m\u001b[0;34m(\u001b[0m\u001b[0mX_batch\u001b[0m\u001b[0;34m,\u001b[0m \u001b[0my_batch\u001b[0m\u001b[0;34m)\u001b[0m\u001b[0;34m\u001b[0m\u001b[0m\n\u001b[0m\u001b[1;32m    183\u001b[0m         \u001b[0mself\u001b[0m\u001b[0;34m.\u001b[0m\u001b[0mloss_history\u001b[0m\u001b[0;34m.\u001b[0m\u001b[0mappend\u001b[0m\u001b[0;34m(\u001b[0m\u001b[0mloss\u001b[0m\u001b[0;34m)\u001b[0m\u001b[0;34m\u001b[0m\u001b[0m\n\u001b[1;32m    184\u001b[0m \u001b[0;34m\u001b[0m\u001b[0m\n",
      "\u001b[0;32m/home/kalmpink/assignment2/cs231n/classifiers/fc_net.pyc\u001b[0m in \u001b[0;36mloss\u001b[0;34m(self, X, y)\u001b[0m\n\u001b[1;32m    253\u001b[0m         \u001b[0;32mfor\u001b[0m \u001b[0mlay\u001b[0m \u001b[0;32min\u001b[0m \u001b[0mxrange\u001b[0m\u001b[0;34m(\u001b[0m\u001b[0mself\u001b[0m\u001b[0;34m.\u001b[0m\u001b[0mnum_layers\u001b[0m\u001b[0;34m-\u001b[0m\u001b[0;36m1\u001b[0m\u001b[0;34m)\u001b[0m\u001b[0;34m:\u001b[0m\u001b[0;34m\u001b[0m\u001b[0m\n\u001b[1;32m    254\u001b[0m             \u001b[0;32mif\u001b[0m \u001b[0mself\u001b[0m\u001b[0;34m.\u001b[0m\u001b[0muse_batchnorm\u001b[0m\u001b[0;34m:\u001b[0m\u001b[0;34m\u001b[0m\u001b[0m\n\u001b[0;32m--> 255\u001b[0;31m                 layer_input, ar_cache[lay] = affine_bn_relu_forward(layer_input, \n\u001b[0m\u001b[1;32m    256\u001b[0m                                         \u001b[0mself\u001b[0m\u001b[0;34m.\u001b[0m\u001b[0mparams\u001b[0m\u001b[0;34m[\u001b[0m\u001b[0;34m'W%d'\u001b[0m\u001b[0;34m%\u001b[0m\u001b[0;34m(\u001b[0m\u001b[0mlay\u001b[0m\u001b[0;34m+\u001b[0m\u001b[0;36m1\u001b[0m\u001b[0;34m)\u001b[0m\u001b[0;34m]\u001b[0m\u001b[0;34m,\u001b[0m \u001b[0mself\u001b[0m\u001b[0;34m.\u001b[0m\u001b[0mparams\u001b[0m\u001b[0;34m[\u001b[0m\u001b[0;34m'b%d'\u001b[0m\u001b[0;34m%\u001b[0m\u001b[0;34m(\u001b[0m\u001b[0mlay\u001b[0m\u001b[0;34m+\u001b[0m\u001b[0;36m1\u001b[0m\u001b[0;34m)\u001b[0m\u001b[0;34m]\u001b[0m\u001b[0;34m,\u001b[0m\u001b[0;34m\u001b[0m\u001b[0m\n\u001b[1;32m    257\u001b[0m                                         self.params['gamma%d'%(lay+1)], self.params['beta%d'%(lay+1)], self.bn_params[lay])\n",
      "\u001b[0;31mNameError\u001b[0m: global name 'affine_bn_relu_forward' is not defined"
     ]
    }
   ],
   "source": [
    "best_model = None\n",
    "################################################################################\n",
    "# TODO: Train the best FullyConnectedNet that you can on CIFAR-10. You might   #\n",
    "# batch normalization and dropout useful. Store your best model in the         #\n",
    "# best_model variable.                                                         #\n",
    "################################################################################\n",
    "\n",
    "X_val= data['X_val']\n",
    "y_val= data['y_val']\n",
    "X_test= data['X_test']\n",
    "y_test= data['y_test']\n",
    "\n",
    "learning_rate = 3.1e-4\n",
    "weight_scale = 2.5e-2 #1e-5\n",
    "model = FullyConnectedNet([600, 500, 400, 300, 200, 100],\n",
    "                weight_scale=weight_scale, dtype=np.float64, dropout=0.25, use_batchnorm=True, reg=1e-2)\n",
    "solver = Solver(model, data,\n",
    "                print_every=500, num_epochs=30, batch_size=100,\n",
    "                update_rule='adam',\n",
    "                optim_config={\n",
    "                  'learning_rate': learning_rate,\n",
    "                },\n",
    "                lr_decay=0.9\n",
    "         )\n",
    "\n",
    "solver.train()\n",
    "scores = model.loss(data['X_test'])\n",
    "y_pred = np.argmax(scores, axis = 1)\n",
    "acc = np.mean(y_pred == data['y_test'])\n",
    "print ('text accuracy : ')\n",
    "print (acc)\n",
    "best_model = model\n",
    "\n",
    "plt.subplot(2, 1, 1)\n",
    "plt.plot(solver.loss_history)\n",
    "plt.title('Loss history')\n",
    "plt.xlabel('Iteration')\n",
    "plt.ylabel('Loss')\n",
    "\n",
    "plt.subplot(2, 1, 2)\n",
    "plt.plot(solver.train_acc_history, label='train')\n",
    "plt.plot(solver.val_acc_history, label='val')\n",
    "plt.title('Classification accuracy history')\n",
    "plt.xlabel('Epoch')\n",
    "plt.ylabel('Clasification accuracy')\n",
    "plt.show() \n",
    "pass\n",
    "################################################################################\n",
    "#                              END OF YOUR CODE                                #\n",
    "################################################################################"
   ]
  },
  {
   "cell_type": "markdown",
   "metadata": {},
   "source": [
    "# Test you model\n",
    "Run your best model on the validation and test sets. You should achieve above 50% accuracy on the validation set."
   ]
  },
  {
   "cell_type": "code",
   "execution_count": 41,
   "metadata": {},
   "outputs": [
    {
     "ename": "AttributeError",
     "evalue": "'NoneType' object has no attribute 'loss'",
     "output_type": "error",
     "traceback": [
      "\u001b[0;31m---------------------------------------------------------------------------\u001b[0m",
      "\u001b[0;31mAttributeError\u001b[0m                            Traceback (most recent call last)",
      "\u001b[0;32m<ipython-input-41-bc662ae98aae>\u001b[0m in \u001b[0;36m<module>\u001b[0;34m()\u001b[0m\n\u001b[0;32m----> 1\u001b[0;31m \u001b[0my_test_pred\u001b[0m \u001b[0;34m=\u001b[0m \u001b[0mnp\u001b[0m\u001b[0;34m.\u001b[0m\u001b[0margmax\u001b[0m\u001b[0;34m(\u001b[0m\u001b[0mbest_model\u001b[0m\u001b[0;34m.\u001b[0m\u001b[0mloss\u001b[0m\u001b[0;34m(\u001b[0m\u001b[0mdata\u001b[0m\u001b[0;34m[\u001b[0m\u001b[0;34m'X_test'\u001b[0m\u001b[0;34m]\u001b[0m\u001b[0;34m)\u001b[0m\u001b[0;34m,\u001b[0m \u001b[0maxis\u001b[0m\u001b[0;34m=\u001b[0m\u001b[0;36m1\u001b[0m\u001b[0;34m)\u001b[0m\u001b[0;34m\u001b[0m\u001b[0m\n\u001b[0m\u001b[1;32m      2\u001b[0m \u001b[0my_val_pred\u001b[0m \u001b[0;34m=\u001b[0m \u001b[0mnp\u001b[0m\u001b[0;34m.\u001b[0m\u001b[0margmax\u001b[0m\u001b[0;34m(\u001b[0m\u001b[0mbest_model\u001b[0m\u001b[0;34m.\u001b[0m\u001b[0mloss\u001b[0m\u001b[0;34m(\u001b[0m\u001b[0mdata\u001b[0m\u001b[0;34m[\u001b[0m\u001b[0;34m'X_val'\u001b[0m\u001b[0;34m]\u001b[0m\u001b[0;34m)\u001b[0m\u001b[0;34m,\u001b[0m \u001b[0maxis\u001b[0m\u001b[0;34m=\u001b[0m\u001b[0;36m1\u001b[0m\u001b[0;34m)\u001b[0m\u001b[0;34m\u001b[0m\u001b[0m\n\u001b[1;32m      3\u001b[0m \u001b[0;32mprint\u001b[0m\u001b[0;34m(\u001b[0m\u001b[0;34m'Validation set accuracy: '\u001b[0m\u001b[0;34m,\u001b[0m \u001b[0;34m(\u001b[0m\u001b[0my_val_pred\u001b[0m \u001b[0;34m==\u001b[0m \u001b[0mdata\u001b[0m\u001b[0;34m[\u001b[0m\u001b[0;34m'y_val'\u001b[0m\u001b[0;34m]\u001b[0m\u001b[0;34m)\u001b[0m\u001b[0;34m.\u001b[0m\u001b[0mmean\u001b[0m\u001b[0;34m(\u001b[0m\u001b[0;34m)\u001b[0m\u001b[0;34m)\u001b[0m\u001b[0;34m\u001b[0m\u001b[0m\n\u001b[1;32m      4\u001b[0m \u001b[0;32mprint\u001b[0m\u001b[0;34m(\u001b[0m\u001b[0;34m'Test set accuracy: '\u001b[0m\u001b[0;34m,\u001b[0m \u001b[0;34m(\u001b[0m\u001b[0my_test_pred\u001b[0m \u001b[0;34m==\u001b[0m \u001b[0mdata\u001b[0m\u001b[0;34m[\u001b[0m\u001b[0;34m'y_test'\u001b[0m\u001b[0;34m]\u001b[0m\u001b[0;34m)\u001b[0m\u001b[0;34m.\u001b[0m\u001b[0mmean\u001b[0m\u001b[0;34m(\u001b[0m\u001b[0;34m)\u001b[0m\u001b[0;34m)\u001b[0m\u001b[0;34m\u001b[0m\u001b[0m\n",
      "\u001b[0;31mAttributeError\u001b[0m: 'NoneType' object has no attribute 'loss'"
     ]
    }
   ],
   "source": [
    "y_test_pred = np.argmax(best_model.loss(data['X_test']), axis=1)\n",
    "y_val_pred = np.argmax(best_model.loss(data['X_val']), axis=1)\n",
    "print('Validation set accuracy: ', (y_val_pred == data['y_val']).mean())\n",
    "print('Test set accuracy: ', (y_test_pred == data['y_test']).mean())"
   ]
  },
  {
   "cell_type": "code",
   "execution_count": null,
   "metadata": {},
   "outputs": [],
   "source": []
  }
 ],
 "metadata": {
  "kernelspec": {
   "display_name": "Python 2",
   "language": "python",
   "name": "python2"
  },
  "language_info": {
   "codemirror_mode": {
    "name": "ipython",
    "version": 2
   },
   "file_extension": ".py",
   "mimetype": "text/x-python",
   "name": "python",
   "nbconvert_exporter": "python",
   "pygments_lexer": "ipython2",
   "version": "2.7.12"
  }
 },
 "nbformat": 4,
 "nbformat_minor": 1
}
=======
 "nbformat_minor": 0, 
 "nbformat": 4, 
 "cells": [
  {
   "source": [
    "# Fully-Connected Neural Nets\n", 
    "In the previous homework you implemented a fully-connected two-layer neural network on CIFAR-10. The implementation was simple but not very modular since the loss and gradient were computed in a single monolithic function. This is manageable for a simple two-layer network, but would become impractical as we move to bigger models. Ideally we want to build networks using a more modular design so that we can implement different layer types in isolation and then snap them together into models with different architectures.\n", 
    "\n", 
    "In this exercise we will implement fully-connected networks using a more modular approach. For each layer we will implement a `forward` and a `backward` function. The `forward` function will receive inputs, weights, and other parameters and will return both an output and a `cache` object storing data needed for the backward pass, like this:\n", 
    "\n", 
    "```python\n", 
    "def layer_forward(x, w):\n", 
    "  \"\"\" Receive inputs x and weights w \"\"\"\n", 
    "  # Do some computations ...\n", 
    "  z = # ... some intermediate value\n", 
    "  # Do some more computations ...\n", 
    "  out = # the output\n", 
    "   \n", 
    "  cache = (x, w, z, out) # Values we need to compute gradients\n", 
    "   \n", 
    "  return out, cache\n", 
    "```\n", 
    "\n", 
    "The backward pass will receive upstream derivatives and the `cache` object, and will return gradients with respect to the inputs and weights, like this:\n", 
    "\n", 
    "```python\n", 
    "def layer_backward(dout, cache):\n", 
    "  \"\"\"\n", 
    "  Receive derivative of loss with respect to outputs and cache,\n", 
    "  and compute derivative with respect to inputs.\n", 
    "  \"\"\"\n", 
    "  # Unpack cache values\n", 
    "  x, w, z, out = cache\n", 
    "  \n", 
    "  # Use values in cache to compute derivatives\n", 
    "  dx = # Derivative of loss with respect to x\n", 
    "  dw = # Derivative of loss with respect to w\n", 
    "  \n", 
    "  return dx, dw\n", 
    "```\n", 
    "\n", 
    "After implementing a bunch of layers this way, we will be able to easily combine them to build classifiers with different architectures.\n", 
    "\n", 
    "In addition to implementing fully-connected networks of arbitrary depth, we will also explore different update rules for optimization, and introduce Dropout as a regularizer and Batch Normalization as a tool to more efficiently optimize deep networks.\n", 
    "  "
   ], 
   "cell_type": "markdown", 
   "metadata": {
    "editable": true, 
    "deletable": true
   }
  }, 
  {
   "execution_count": null, 
   "cell_type": "code", 
   "source": [
    "# As usual, a bit of setup\n", 
    "from __future__ import print_function\n", 
    "import time\n", 
    "import numpy as np\n", 
    "import matplotlib.pyplot as plt\n", 
    "from cs231n.classifiers.fc_net import *\n", 
    "from cs231n.data_utils import get_CIFAR10_data\n", 
    "from cs231n.gradient_check import eval_numerical_gradient, eval_numerical_gradient_array\n", 
    "from cs231n.solver import Solver\n", 
    "\n", 
    "%matplotlib inline\n", 
    "plt.rcParams['figure.figsize'] = (10.0, 8.0) # set default size of plots\n", 
    "plt.rcParams['image.interpolation'] = 'nearest'\n", 
    "plt.rcParams['image.cmap'] = 'gray'\n", 
    "\n", 
    "# for auto-reloading external modules\n", 
    "# see http://stackoverflow.com/questions/1907993/autoreload-of-modules-in-ipython\n", 
    "%load_ext autoreload\n", 
    "%autoreload 2\n", 
    "\n", 
    "def rel_error(x, y):\n", 
    "  \"\"\" returns relative error \"\"\"\n", 
    "  return np.max(np.abs(x - y) / (np.maximum(1e-8, np.abs(x) + np.abs(y))))"
   ], 
   "outputs": [], 
   "metadata": {
    "collapsed": false, 
    "editable": true, 
    "deletable": true
   }
  }, 
  {
   "execution_count": null, 
   "cell_type": "code", 
   "source": [
    "# Load the (preprocessed) CIFAR10 data.\n", 
    "\n", 
    "data = get_CIFAR10_data()\n", 
    "for k, v in list(data.items()):\n", 
    "  print(('%s: ' % k, v.shape))"
   ], 
   "outputs": [], 
   "metadata": {
    "collapsed": false, 
    "editable": true, 
    "deletable": true
   }
  }, 
  {
   "source": [
    "# Affine layer: foward\n", 
    "Open the file `cs231n/layers.py` and implement the `affine_forward` function.\n", 
    "\n", 
    "Once you are done you can test your implementaion by running the following:"
   ], 
   "cell_type": "markdown", 
   "metadata": {
    "editable": true, 
    "deletable": true
   }
  }, 
  {
   "execution_count": null, 
   "cell_type": "code", 
   "source": [
    "# Test the affine_forward function\n", 
    "\n", 
    "num_inputs = 2\n", 
    "input_shape = (4, 5, 6)\n", 
    "output_dim = 3\n", 
    "\n", 
    "input_size = num_inputs * np.prod(input_shape)\n", 
    "weight_size = output_dim * np.prod(input_shape)\n", 
    "\n", 
    "x = np.linspace(-0.1, 0.5, num=input_size).reshape(num_inputs, *input_shape)\n", 
    "w = np.linspace(-0.2, 0.3, num=weight_size).reshape(np.prod(input_shape), output_dim)\n", 
    "b = np.linspace(-0.3, 0.1, num=output_dim)\n", 
    "\n", 
    "out, _ = affine_forward(x, w, b)\n", 
    "correct_out = np.array([[ 1.49834967,  1.70660132,  1.91485297],\n", 
    "                        [ 3.25553199,  3.5141327,   3.77273342]])\n", 
    "\n", 
    "# Compare your output with ours. The error should be around 1e-9.\n", 
    "print('Testing affine_forward function:')\n", 
    "print('difference: ', rel_error(out, correct_out))"
   ], 
   "outputs": [], 
   "metadata": {
    "collapsed": false, 
    "editable": true, 
    "deletable": true
   }
  }, 
  {
   "source": [
    "# Affine layer: backward\n", 
    "Now implement the `affine_backward` function and test your implementation using numeric gradient checking."
   ], 
   "cell_type": "markdown", 
   "metadata": {
    "editable": true, 
    "deletable": true
   }
  }, 
  {
   "execution_count": null, 
   "cell_type": "code", 
   "source": [
    "# Test the affine_backward function\n", 
    "np.random.seed(231)\n", 
    "x = np.random.randn(10, 2, 3)\n", 
    "w = np.random.randn(6, 5)\n", 
    "b = np.random.randn(5)\n", 
    "dout = np.random.randn(10, 5)\n", 
    "\n", 
    "dx_num = eval_numerical_gradient_array(lambda x: affine_forward(x, w, b)[0], x, dout)\n", 
    "dw_num = eval_numerical_gradient_array(lambda w: affine_forward(x, w, b)[0], w, dout)\n", 
    "db_num = eval_numerical_gradient_array(lambda b: affine_forward(x, w, b)[0], b, dout)\n", 
    "\n", 
    "_, cache = affine_forward(x, w, b)\n", 
    "dx, dw, db = affine_backward(dout, cache)\n", 
    "\n", 
    "# The error should be around 1e-10\n", 
    "print('Testing affine_backward function:')\n", 
    "print('dx error: ', rel_error(dx_num, dx))\n", 
    "print('dw error: ', rel_error(dw_num, dw))\n", 
    "print('db error: ', rel_error(db_num, db))"
   ], 
   "outputs": [], 
   "metadata": {
    "collapsed": false, 
    "editable": true, 
    "deletable": true
   }
  }, 
  {
   "source": [
    "# ReLU layer: forward\n", 
    "Implement the forward pass for the ReLU activation function in the `relu_forward` function and test your implementation using the following:"
   ], 
   "cell_type": "markdown", 
   "metadata": {
    "editable": true, 
    "deletable": true
   }
  }, 
  {
   "execution_count": null, 
   "cell_type": "code", 
   "source": [
    "# Test the relu_forward function\n", 
    "\n", 
    "x = np.linspace(-0.5, 0.5, num=12).reshape(3, 4)\n", 
    "\n", 
    "out, _ = relu_forward(x)\n", 
    "correct_out = np.array([[ 0.,          0.,          0.,          0.,        ],\n", 
    "                        [ 0.,          0.,          0.04545455,  0.13636364,],\n", 
    "                        [ 0.22727273,  0.31818182,  0.40909091,  0.5,       ]])\n", 
    "\n", 
    "# Compare your output with ours. The error should be around 5e-8\n", 
    "print('Testing relu_forward function:')\n", 
    "print('difference: ', rel_error(out, correct_out))"
   ], 
   "outputs": [], 
   "metadata": {
    "collapsed": false, 
    "editable": true, 
    "deletable": true
   }
  }, 
  {
   "source": [
    "# ReLU layer: backward\n", 
    "Now implement the backward pass for the ReLU activation function in the `relu_backward` function and test your implementation using numeric gradient checking:"
   ], 
   "cell_type": "markdown", 
   "metadata": {
    "editable": true, 
    "deletable": true
   }
  }, 
  {
   "execution_count": null, 
   "cell_type": "code", 
   "source": [
    "np.random.seed(231)\n", 
    "x = np.random.randn(10, 10)\n", 
    "dout = np.random.randn(*x.shape)\n", 
    "\n", 
    "dx_num = eval_numerical_gradient_array(lambda x: relu_forward(x)[0], x, dout)\n", 
    "\n", 
    "_, cache = relu_forward(x)\n", 
    "dx = relu_backward(dout, cache)\n", 
    "\n", 
    "# The error should be around 3e-12\n", 
    "print('Testing relu_backward function:')\n", 
    "print('dx error: ', rel_error(dx_num, dx))"
   ], 
   "outputs": [], 
   "metadata": {
    "collapsed": false, 
    "editable": true, 
    "deletable": true
   }
  }, 
  {
   "source": [
    "# \"Sandwich\" layers\n", 
    "There are some common patterns of layers that are frequently used in neural nets. For example, affine layers are frequently followed by a ReLU nonlinearity. To make these common patterns easy, we define several convenience layers in the file `cs231n/layer_utils.py`.\n", 
    "\n", 
    "For now take a look at the `affine_relu_forward` and `affine_relu_backward` functions, and run the following to numerically gradient check the backward pass:"
   ], 
   "cell_type": "markdown", 
   "metadata": {
    "editable": true, 
    "deletable": true
   }
  }, 
  {
   "execution_count": null, 
   "cell_type": "code", 
   "source": [
    "from cs231n.layer_utils import affine_relu_forward, affine_relu_backward\n", 
    "np.random.seed(231)\n", 
    "x = np.random.randn(2, 3, 4)\n", 
    "w = np.random.randn(12, 10)\n", 
    "b = np.random.randn(10)\n", 
    "dout = np.random.randn(2, 10)\n", 
    "\n", 
    "out, cache = affine_relu_forward(x, w, b)\n", 
    "dx, dw, db = affine_relu_backward(dout, cache)\n", 
    "\n", 
    "dx_num = eval_numerical_gradient_array(lambda x: affine_relu_forward(x, w, b)[0], x, dout)\n", 
    "dw_num = eval_numerical_gradient_array(lambda w: affine_relu_forward(x, w, b)[0], w, dout)\n", 
    "db_num = eval_numerical_gradient_array(lambda b: affine_relu_forward(x, w, b)[0], b, dout)\n", 
    "\n", 
    "print('Testing affine_relu_forward:')\n", 
    "print('dx error: ', rel_error(dx_num, dx))\n", 
    "print('dw error: ', rel_error(dw_num, dw))\n", 
    "print('db error: ', rel_error(db_num, db))"
   ], 
   "outputs": [], 
   "metadata": {
    "collapsed": false, 
    "editable": true, 
    "deletable": true
   }
  }, 
  {
   "source": [
    "# Loss layers: Softmax and SVM\n", 
    "You implemented these loss functions in the last assignment, so we'll give them to you for free here. You should still make sure you understand how they work by looking at the implementations in `cs231n/layers.py`.\n", 
    "\n", 
    "You can make sure that the implementations are correct by running the following:"
   ], 
   "cell_type": "markdown", 
   "metadata": {
    "editable": true, 
    "deletable": true
   }
  }, 
  {
   "execution_count": null, 
   "cell_type": "code", 
   "source": [
    "np.random.seed(231)\n", 
    "num_classes, num_inputs = 10, 50\n", 
    "x = 0.001 * np.random.randn(num_inputs, num_classes)\n", 
    "y = np.random.randint(num_classes, size=num_inputs)\n", 
    "\n", 
    "dx_num = eval_numerical_gradient(lambda x: svm_loss(x, y)[0], x, verbose=False)\n", 
    "loss, dx = svm_loss(x, y)\n", 
    "\n", 
    "# Test svm_loss function. Loss should be around 9 and dx error should be 1e-9\n", 
    "print('Testing svm_loss:')\n", 
    "print('loss: ', loss)\n", 
    "print('dx error: ', rel_error(dx_num, dx))\n", 
    "\n", 
    "dx_num = eval_numerical_gradient(lambda x: softmax_loss(x, y)[0], x, verbose=False)\n", 
    "loss, dx = softmax_loss(x, y)\n", 
    "\n", 
    "# Test softmax_loss function. Loss should be 2.3 and dx error should be 1e-8\n", 
    "print('\\nTesting softmax_loss:')\n", 
    "print('loss: ', loss)\n", 
    "print('dx error: ', rel_error(dx_num, dx))"
   ], 
   "outputs": [], 
   "metadata": {
    "collapsed": false, 
    "editable": true, 
    "deletable": true
   }
  }, 
  {
   "source": [
    "# Two-layer network\n", 
    "In the previous assignment you implemented a two-layer neural network in a single monolithic class. Now that you have implemented modular versions of the necessary layers, you will reimplement the two layer network using these modular implementations.\n", 
    "\n", 
    "Open the file `cs231n/classifiers/fc_net.py` and complete the implementation of the `TwoLayerNet` class. This class will serve as a model for the other networks you will implement in this assignment, so read through it to make sure you understand the API. You can run the cell below to test your implementation."
   ], 
   "cell_type": "markdown", 
   "metadata": {
    "editable": true, 
    "deletable": true
   }
  }, 
  {
   "execution_count": null, 
   "cell_type": "code", 
   "source": [
    "np.random.seed(231)\n", 
    "N, D, H, C = 3, 5, 50, 7\n", 
    "X = np.random.randn(N, D)\n", 
    "y = np.random.randint(C, size=N)\n", 
    "\n", 
    "std = 1e-3\n", 
    "model = TwoLayerNet(input_dim=D, hidden_dim=H, num_classes=C, weight_scale=std)\n", 
    "\n", 
    "print('Testing initialization ... ')\n", 
    "W1_std = abs(model.params['W1'].std() - std)\n", 
    "b1 = model.params['b1']\n", 
    "W2_std = abs(model.params['W2'].std() - std)\n", 
    "b2 = model.params['b2']\n", 
    "assert W1_std < std / 10, 'First layer weights do not seem right'\n", 
    "assert np.all(b1 == 0), 'First layer biases do not seem right'\n", 
    "assert W2_std < std / 10, 'Second layer weights do not seem right'\n", 
    "assert np.all(b2 == 0), 'Second layer biases do not seem right'\n", 
    "\n", 
    "print('Testing test-time forward pass ... ')\n", 
    "model.params['W1'] = np.linspace(-0.7, 0.3, num=D*H).reshape(D, H)\n", 
    "model.params['b1'] = np.linspace(-0.1, 0.9, num=H)\n", 
    "model.params['W2'] = np.linspace(-0.3, 0.4, num=H*C).reshape(H, C)\n", 
    "model.params['b2'] = np.linspace(-0.9, 0.1, num=C)\n", 
    "X = np.linspace(-5.5, 4.5, num=N*D).reshape(D, N).T\n", 
    "scores = model.loss(X)\n", 
    "correct_scores = np.asarray(\n", 
    "  [[11.53165108,  12.2917344,   13.05181771,  13.81190102,  14.57198434, 15.33206765,  16.09215096],\n", 
    "   [12.05769098,  12.74614105,  13.43459113,  14.1230412,   14.81149128, 15.49994135,  16.18839143],\n", 
    "   [12.58373087,  13.20054771,  13.81736455,  14.43418138,  15.05099822, 15.66781506,  16.2846319 ]])\n", 
    "scores_diff = np.abs(scores - correct_scores).sum()\n", 
    "assert scores_diff < 1e-6, 'Problem with test-time forward pass'\n", 
    "\n", 
    "print('Testing training loss (no regularization)')\n", 
    "y = np.asarray([0, 5, 1])\n", 
    "loss, grads = model.loss(X, y)\n", 
    "correct_loss = 3.4702243556\n", 
    "assert abs(loss - correct_loss) < 1e-10, 'Problem with training-time loss'\n", 
    "\n", 
    "model.reg = 1.0\n", 
    "loss, grads = model.loss(X, y)\n", 
    "correct_loss = 26.5948426952\n", 
    "assert abs(loss - correct_loss) < 1e-10, 'Problem with regularization loss'\n", 
    "\n", 
    "for reg in [0.0, 0.7]:\n", 
    "  print('Running numeric gradient check with reg = ', reg)\n", 
    "  model.reg = reg\n", 
    "  loss, grads = model.loss(X, y)\n", 
    "\n", 
    "  for name in sorted(grads):\n", 
    "    f = lambda _: model.loss(X, y)[0]\n", 
    "    grad_num = eval_numerical_gradient(f, model.params[name], verbose=False)\n", 
    "    print('%s relative error: %.2e' % (name, rel_error(grad_num, grads[name])))"
   ], 
   "outputs": [], 
   "metadata": {
    "collapsed": false, 
    "editable": true, 
    "deletable": true
   }
  }, 
  {
   "source": [
    "# Solver\n", 
    "In the previous assignment, the logic for training models was coupled to the models themselves. Following a more modular design, for this assignment we have split the logic for training models into a separate class.\n", 
    "\n", 
    "Open the file `cs231n/solver.py` and read through it to familiarize yourself with the API. After doing so, use a `Solver` instance to train a `TwoLayerNet` that achieves at least `50%` accuracy on the validation set."
   ], 
   "cell_type": "markdown", 
   "metadata": {
    "editable": true, 
    "deletable": true
   }
  }, 
  {
   "execution_count": null, 
   "cell_type": "code", 
   "source": [
    "model = TwoLayerNet()\n", 
    "solver = None\n", 
    "\n", 
    "##############################################################################\n", 
    "# TODO: Use a Solver instance to train a TwoLayerNet that achieves at least  #\n", 
    "# 50% accuracy on the validation set.                                        #\n", 
    "##############################################################################\n", 
    "pass\n", 
    "##############################################################################\n", 
    "#                             END OF YOUR CODE                               #\n", 
    "##############################################################################"
   ], 
   "outputs": [], 
   "metadata": {
    "collapsed": false, 
    "editable": true, 
    "deletable": true
   }
  }, 
  {
   "execution_count": null, 
   "cell_type": "code", 
   "source": [
    "# Run this cell to visualize training loss and train / val accuracy\n", 
    "\n", 
    "plt.subplot(2, 1, 1)\n", 
    "plt.title('Training loss')\n", 
    "plt.plot(solver.loss_history, 'o')\n", 
    "plt.xlabel('Iteration')\n", 
    "\n", 
    "plt.subplot(2, 1, 2)\n", 
    "plt.title('Accuracy')\n", 
    "plt.plot(solver.train_acc_history, '-o', label='train')\n", 
    "plt.plot(solver.val_acc_history, '-o', label='val')\n", 
    "plt.plot([0.5] * len(solver.val_acc_history), 'k--')\n", 
    "plt.xlabel('Epoch')\n", 
    "plt.legend(loc='lower right')\n", 
    "plt.gcf().set_size_inches(15, 12)\n", 
    "plt.show()"
   ], 
   "outputs": [], 
   "metadata": {
    "collapsed": false, 
    "editable": true, 
    "deletable": true
   }
  }, 
  {
   "source": [
    "# Multilayer network\n", 
    "Next you will implement a fully-connected network with an arbitrary number of hidden layers.\n", 
    "\n", 
    "Read through the `FullyConnectedNet` class in the file `cs231n/classifiers/fc_net.py`.\n", 
    "\n", 
    "Implement the initialization, the forward pass, and the backward pass. For the moment don't worry about implementing dropout or batch normalization; we will add those features soon."
   ], 
   "cell_type": "markdown", 
   "metadata": {
    "editable": true, 
    "deletable": true
   }
  }, 
  {
   "source": [
    "## Initial loss and gradient check"
   ], 
   "cell_type": "markdown", 
   "metadata": {
    "editable": true, 
    "deletable": true
   }
  }, 
  {
   "source": [
    "As a sanity check, run the following to check the initial loss and to gradient check the network both with and without regularization. Do the initial losses seem reasonable?\n", 
    "\n", 
    "For gradient checking, you should expect to see errors around 1e-6 or less."
   ], 
   "cell_type": "markdown", 
   "metadata": {
    "editable": true, 
    "deletable": true
   }
  }, 
  {
   "execution_count": null, 
   "cell_type": "code", 
   "source": [
    "np.random.seed(231)\n", 
    "N, D, H1, H2, C = 2, 15, 20, 30, 10\n", 
    "X = np.random.randn(N, D)\n", 
    "y = np.random.randint(C, size=(N,))\n", 
    "\n", 
    "for reg in [0, 3.14]:\n", 
    "  print('Running check with reg = ', reg)\n", 
    "  model = FullyConnectedNet([H1, H2], input_dim=D, num_classes=C,\n", 
    "                            reg=reg, weight_scale=5e-2, dtype=np.float64)\n", 
    "\n", 
    "  loss, grads = model.loss(X, y)\n", 
    "  print('Initial loss: ', loss)\n", 
    "\n", 
    "  for name in sorted(grads):\n", 
    "    f = lambda _: model.loss(X, y)[0]\n", 
    "    grad_num = eval_numerical_gradient(f, model.params[name], verbose=False, h=1e-5)\n", 
    "    print('%s relative error: %.2e' % (name, rel_error(grad_num, grads[name])))"
   ], 
   "outputs": [], 
   "metadata": {
    "collapsed": false, 
    "editable": true, 
    "deletable": true
   }
  }, 
  {
   "source": [
    "As another sanity check, make sure you can overfit a small dataset of 50 images. First we will try a three-layer network with 100 units in each hidden layer. You will need to tweak the learning rate and initialization scale, but you should be able to overfit and achieve 100% training accuracy within 20 epochs."
   ], 
   "cell_type": "markdown", 
   "metadata": {
    "editable": true, 
    "deletable": true
   }
  }, 
  {
   "execution_count": null, 
   "cell_type": "code", 
   "source": [
    "# TODO: Use a three-layer Net to overfit 50 training examples.\n", 
    "\n", 
    "num_train = 50\n", 
    "small_data = {\n", 
    "  'X_train': data['X_train'][:num_train],\n", 
    "  'y_train': data['y_train'][:num_train],\n", 
    "  'X_val': data['X_val'],\n", 
    "  'y_val': data['y_val'],\n", 
    "}\n", 
    "\n", 
    "weight_scale = 1e-2\n", 
    "learning_rate = 1e-4\n", 
    "model = FullyConnectedNet([100, 100],\n", 
    "              weight_scale=weight_scale, dtype=np.float64)\n", 
    "solver = Solver(model, small_data,\n", 
    "                print_every=10, num_epochs=20, batch_size=25,\n", 
    "                update_rule='sgd',\n", 
    "                optim_config={\n", 
    "                  'learning_rate': learning_rate,\n", 
    "                }\n", 
    "         )\n", 
    "solver.train()\n", 
    "\n", 
    "plt.plot(solver.loss_history, 'o')\n", 
    "plt.title('Training loss history')\n", 
    "plt.xlabel('Iteration')\n", 
    "plt.ylabel('Training loss')\n", 
    "plt.show()"
   ], 
   "outputs": [], 
   "metadata": {
    "scrolled": false, 
    "collapsed": false, 
    "editable": true, 
    "deletable": true
   }
  }, 
  {
   "source": [
    "Now try to use a five-layer network with 100 units on each layer to overfit 50 training examples. Again you will have to adjust the learning rate and weight initialization, but you should be able to achieve 100% training accuracy within 20 epochs."
   ], 
   "cell_type": "markdown", 
   "metadata": {
    "editable": true, 
    "deletable": true
   }
  }, 
  {
   "execution_count": null, 
   "cell_type": "code", 
   "source": [
    "# TODO: Use a five-layer Net to overfit 50 training examples.\n", 
    "\n", 
    "num_train = 50\n", 
    "small_data = {\n", 
    "  'X_train': data['X_train'][:num_train],\n", 
    "  'y_train': data['y_train'][:num_train],\n", 
    "  'X_val': data['X_val'],\n", 
    "  'y_val': data['y_val'],\n", 
    "}\n", 
    "\n", 
    "learning_rate = 1e-3\n", 
    "weight_scale = 1e-5\n", 
    "model = FullyConnectedNet([100, 100, 100, 100],\n", 
    "                weight_scale=weight_scale, dtype=np.float64)\n", 
    "solver = Solver(model, small_data,\n", 
    "                print_every=10, num_epochs=20, batch_size=25,\n", 
    "                update_rule='sgd',\n", 
    "                optim_config={\n", 
    "                  'learning_rate': learning_rate,\n", 
    "                }\n", 
    "         )\n", 
    "solver.train()\n", 
    "\n", 
    "plt.plot(solver.loss_history, 'o')\n", 
    "plt.title('Training loss history')\n", 
    "plt.xlabel('Iteration')\n", 
    "plt.ylabel('Training loss')\n", 
    "plt.show()"
   ], 
   "outputs": [], 
   "metadata": {
    "collapsed": false, 
    "editable": true, 
    "deletable": true
   }
  }, 
  {
   "source": [
    "# Inline question: \n", 
    "Did you notice anything about the comparative difficulty of training the three-layer net vs training the five layer net?\n", 
    "\n", 
    "# Answer:\n", 
    "[FILL THIS IN]\n"
   ], 
   "cell_type": "markdown", 
   "metadata": {
    "editable": true, 
    "deletable": true
   }
  }, 
  {
   "source": [
    "# Update rules\n", 
    "So far we have used vanilla stochastic gradient descent (SGD) as our update rule. More sophisticated update rules can make it easier to train deep networks. We will implement a few of the most commonly used update rules and compare them to vanilla SGD."
   ], 
   "cell_type": "markdown", 
   "metadata": {
    "editable": true, 
    "deletable": true
   }
  }, 
  {
   "source": [
    "# SGD+Momentum\n", 
    "Stochastic gradient descent with momentum is a widely used update rule that tends to make deep networks converge faster than vanilla stochstic gradient descent.\n", 
    "\n", 
    "Open the file `cs231n/optim.py` and read the documentation at the top of the file to make sure you understand the API. Implement the SGD+momentum update rule in the function `sgd_momentum` and run the following to check your implementation. You should see errors less than 1e-8."
   ], 
   "cell_type": "markdown", 
   "metadata": {
    "editable": true, 
    "deletable": true
   }
  }, 
  {
   "execution_count": null, 
   "cell_type": "code", 
   "source": [
    "from cs231n.optim import sgd_momentum\n", 
    "\n", 
    "N, D = 4, 5\n", 
    "w = np.linspace(-0.4, 0.6, num=N*D).reshape(N, D)\n", 
    "dw = np.linspace(-0.6, 0.4, num=N*D).reshape(N, D)\n", 
    "v = np.linspace(0.6, 0.9, num=N*D).reshape(N, D)\n", 
    "\n", 
    "config = {'learning_rate': 1e-3, 'velocity': v}\n", 
    "next_w, _ = sgd_momentum(w, dw, config=config)\n", 
    "\n", 
    "expected_next_w = np.asarray([\n", 
    "  [ 0.1406,      0.20738947,  0.27417895,  0.34096842,  0.40775789],\n", 
    "  [ 0.47454737,  0.54133684,  0.60812632,  0.67491579,  0.74170526],\n", 
    "  [ 0.80849474,  0.87528421,  0.94207368,  1.00886316,  1.07565263],\n", 
    "  [ 1.14244211,  1.20923158,  1.27602105,  1.34281053,  1.4096    ]])\n", 
    "expected_velocity = np.asarray([\n", 
    "  [ 0.5406,      0.55475789,  0.56891579, 0.58307368,  0.59723158],\n", 
    "  [ 0.61138947,  0.62554737,  0.63970526,  0.65386316,  0.66802105],\n", 
    "  [ 0.68217895,  0.69633684,  0.71049474,  0.72465263,  0.73881053],\n", 
    "  [ 0.75296842,  0.76712632,  0.78128421,  0.79544211,  0.8096    ]])\n", 
    "\n", 
    "print('next_w error: ', rel_error(next_w, expected_next_w))\n", 
    "print('velocity error: ', rel_error(expected_velocity, config['velocity']))"
   ], 
   "outputs": [], 
   "metadata": {
    "collapsed": false, 
    "editable": true, 
    "deletable": true
   }
  }, 
  {
   "source": [
    "Once you have done so, run the following to train a six-layer network with both SGD and SGD+momentum. You should see the SGD+momentum update rule converge faster."
   ], 
   "cell_type": "markdown", 
   "metadata": {
    "editable": true, 
    "deletable": true
   }
  }, 
  {
   "execution_count": null, 
   "cell_type": "code", 
   "source": [
    "num_train = 4000\n", 
    "small_data = {\n", 
    "  'X_train': data['X_train'][:num_train],\n", 
    "  'y_train': data['y_train'][:num_train],\n", 
    "  'X_val': data['X_val'],\n", 
    "  'y_val': data['y_val'],\n", 
    "}\n", 
    "\n", 
    "solvers = {}\n", 
    "\n", 
    "for update_rule in ['sgd', 'sgd_momentum']:\n", 
    "  print('running with ', update_rule)\n", 
    "  model = FullyConnectedNet([100, 100, 100, 100, 100], weight_scale=5e-2)\n", 
    "\n", 
    "  solver = Solver(model, small_data,\n", 
    "                  num_epochs=5, batch_size=100,\n", 
    "                  update_rule=update_rule,\n", 
    "                  optim_config={\n", 
    "                    'learning_rate': 1e-2,\n", 
    "                  },\n", 
    "                  verbose=True)\n", 
    "  solvers[update_rule] = solver\n", 
    "  solver.train()\n", 
    "  print()\n", 
    "\n", 
    "plt.subplot(3, 1, 1)\n", 
    "plt.title('Training loss')\n", 
    "plt.xlabel('Iteration')\n", 
    "\n", 
    "plt.subplot(3, 1, 2)\n", 
    "plt.title('Training accuracy')\n", 
    "plt.xlabel('Epoch')\n", 
    "\n", 
    "plt.subplot(3, 1, 3)\n", 
    "plt.title('Validation accuracy')\n", 
    "plt.xlabel('Epoch')\n", 
    "\n", 
    "for update_rule, solver in list(solvers.items()):\n", 
    "  plt.subplot(3, 1, 1)\n", 
    "  plt.plot(solver.loss_history, 'o', label=update_rule)\n", 
    "  \n", 
    "  plt.subplot(3, 1, 2)\n", 
    "  plt.plot(solver.train_acc_history, '-o', label=update_rule)\n", 
    "\n", 
    "  plt.subplot(3, 1, 3)\n", 
    "  plt.plot(solver.val_acc_history, '-o', label=update_rule)\n", 
    "  \n", 
    "for i in [1, 2, 3]:\n", 
    "  plt.subplot(3, 1, i)\n", 
    "  plt.legend(loc='upper center', ncol=4)\n", 
    "plt.gcf().set_size_inches(15, 15)\n", 
    "plt.show()"
   ], 
   "outputs": [], 
   "metadata": {
    "scrolled": false, 
    "collapsed": false, 
    "editable": true, 
    "deletable": true
   }
  }, 
  {
   "source": [
    "# RMSProp and Adam\n", 
    "RMSProp [1] and Adam [2] are update rules that set per-parameter learning rates by using a running average of the second moments of gradients.\n", 
    "\n", 
    "In the file `cs231n/optim.py`, implement the RMSProp update rule in the `rmsprop` function and implement the Adam update rule in the `adam` function, and check your implementations using the tests below.\n", 
    "\n", 
    "[1] Tijmen Tieleman and Geoffrey Hinton. \"Lecture 6.5-rmsprop: Divide the gradient by a running average of its recent magnitude.\" COURSERA: Neural Networks for Machine Learning 4 (2012).\n", 
    "\n", 
    "[2] Diederik Kingma and Jimmy Ba, \"Adam: A Method for Stochastic Optimization\", ICLR 2015."
   ], 
   "cell_type": "markdown", 
   "metadata": {
    "editable": true, 
    "deletable": true
   }
  }, 
  {
   "execution_count": null, 
   "cell_type": "code", 
   "source": [
    "# Test RMSProp implementation; you should see errors less than 1e-7\n", 
    "from cs231n.optim import rmsprop\n", 
    "\n", 
    "N, D = 4, 5\n", 
    "w = np.linspace(-0.4, 0.6, num=N*D).reshape(N, D)\n", 
    "dw = np.linspace(-0.6, 0.4, num=N*D).reshape(N, D)\n", 
    "cache = np.linspace(0.6, 0.9, num=N*D).reshape(N, D)\n", 
    "\n", 
    "config = {'learning_rate': 1e-2, 'cache': cache}\n", 
    "next_w, _ = rmsprop(w, dw, config=config)\n", 
    "\n", 
    "expected_next_w = np.asarray([\n", 
    "  [-0.39223849, -0.34037513, -0.28849239, -0.23659121, -0.18467247],\n", 
    "  [-0.132737,   -0.08078555, -0.02881884,  0.02316247,  0.07515774],\n", 
    "  [ 0.12716641,  0.17918792,  0.23122175,  0.28326742,  0.33532447],\n", 
    "  [ 0.38739248,  0.43947102,  0.49155973,  0.54365823,  0.59576619]])\n", 
    "expected_cache = np.asarray([\n", 
    "  [ 0.5976,      0.6126277,   0.6277108,   0.64284931,  0.65804321],\n", 
    "  [ 0.67329252,  0.68859723,  0.70395734,  0.71937285,  0.73484377],\n", 
    "  [ 0.75037008,  0.7659518,   0.78158892,  0.79728144,  0.81302936],\n", 
    "  [ 0.82883269,  0.84469141,  0.86060554,  0.87657507,  0.8926    ]])\n", 
    "\n", 
    "print('next_w error: ', rel_error(expected_next_w, next_w))\n", 
    "print('cache error: ', rel_error(expected_cache, config['cache']))"
   ], 
   "outputs": [], 
   "metadata": {
    "collapsed": false, 
    "editable": true, 
    "deletable": true
   }
  }, 
  {
   "execution_count": null, 
   "cell_type": "code", 
   "source": [
    "# Test Adam implementation; you should see errors around 1e-7 or less\n", 
    "from cs231n.optim import adam\n", 
    "\n", 
    "N, D = 4, 5\n", 
    "w = np.linspace(-0.4, 0.6, num=N*D).reshape(N, D)\n", 
    "dw = np.linspace(-0.6, 0.4, num=N*D).reshape(N, D)\n", 
    "m = np.linspace(0.6, 0.9, num=N*D).reshape(N, D)\n", 
    "v = np.linspace(0.7, 0.5, num=N*D).reshape(N, D)\n", 
    "\n", 
    "config = {'learning_rate': 1e-2, 'm': m, 'v': v, 't': 5}\n", 
    "next_w, _ = adam(w, dw, config=config)\n", 
    "\n", 
    "expected_next_w = np.asarray([\n", 
    "  [-0.40094747, -0.34836187, -0.29577703, -0.24319299, -0.19060977],\n", 
    "  [-0.1380274,  -0.08544591, -0.03286534,  0.01971428,  0.0722929],\n", 
    "  [ 0.1248705,   0.17744702,  0.23002243,  0.28259667,  0.33516969],\n", 
    "  [ 0.38774145,  0.44031188,  0.49288093,  0.54544852,  0.59801459]])\n", 
    "expected_v = np.asarray([\n", 
    "  [ 0.69966,     0.68908382,  0.67851319,  0.66794809,  0.65738853,],\n", 
    "  [ 0.64683452,  0.63628604,  0.6257431,   0.61520571,  0.60467385,],\n", 
    "  [ 0.59414753,  0.58362676,  0.57311152,  0.56260183,  0.55209767,],\n", 
    "  [ 0.54159906,  0.53110598,  0.52061845,  0.51013645,  0.49966,   ]])\n", 
    "expected_m = np.asarray([\n", 
    "  [ 0.48,        0.49947368,  0.51894737,  0.53842105,  0.55789474],\n", 
    "  [ 0.57736842,  0.59684211,  0.61631579,  0.63578947,  0.65526316],\n", 
    "  [ 0.67473684,  0.69421053,  0.71368421,  0.73315789,  0.75263158],\n", 
    "  [ 0.77210526,  0.79157895,  0.81105263,  0.83052632,  0.85      ]])\n", 
    "\n", 
    "print('next_w error: ', rel_error(expected_next_w, next_w))\n", 
    "print('v error: ', rel_error(expected_v, config['v']))\n", 
    "print('m error: ', rel_error(expected_m, config['m']))"
   ], 
   "outputs": [], 
   "metadata": {
    "collapsed": false, 
    "editable": true, 
    "deletable": true
   }
  }, 
  {
   "source": [
    "Once you have debugged your RMSProp and Adam implementations, run the following to train a pair of deep networks using these new update rules:"
   ], 
   "cell_type": "markdown", 
   "metadata": {
    "editable": true, 
    "deletable": true
   }
  }, 
  {
   "execution_count": null, 
   "cell_type": "code", 
   "source": [
    "learning_rates = {'rmsprop': 1e-4, 'adam': 1e-3}\n", 
    "for update_rule in ['adam', 'rmsprop']:\n", 
    "  print('running with ', update_rule)\n", 
    "  model = FullyConnectedNet([100, 100, 100, 100, 100], weight_scale=5e-2)\n", 
    "\n", 
    "  solver = Solver(model, small_data,\n", 
    "                  num_epochs=5, batch_size=100,\n", 
    "                  update_rule=update_rule,\n", 
    "                  optim_config={\n", 
    "                    'learning_rate': learning_rates[update_rule]\n", 
    "                  },\n", 
    "                  verbose=True)\n", 
    "  solvers[update_rule] = solver\n", 
    "  solver.train()\n", 
    "  print()\n", 
    "\n", 
    "plt.subplot(3, 1, 1)\n", 
    "plt.title('Training loss')\n", 
    "plt.xlabel('Iteration')\n", 
    "\n", 
    "plt.subplot(3, 1, 2)\n", 
    "plt.title('Training accuracy')\n", 
    "plt.xlabel('Epoch')\n", 
    "\n", 
    "plt.subplot(3, 1, 3)\n", 
    "plt.title('Validation accuracy')\n", 
    "plt.xlabel('Epoch')\n", 
    "\n", 
    "for update_rule, solver in list(solvers.items()):\n", 
    "  plt.subplot(3, 1, 1)\n", 
    "  plt.plot(solver.loss_history, 'o', label=update_rule)\n", 
    "  \n", 
    "  plt.subplot(3, 1, 2)\n", 
    "  plt.plot(solver.train_acc_history, '-o', label=update_rule)\n", 
    "\n", 
    "  plt.subplot(3, 1, 3)\n", 
    "  plt.plot(solver.val_acc_history, '-o', label=update_rule)\n", 
    "  \n", 
    "for i in [1, 2, 3]:\n", 
    "  plt.subplot(3, 1, i)\n", 
    "  plt.legend(loc='upper center', ncol=4)\n", 
    "plt.gcf().set_size_inches(15, 15)\n", 
    "plt.show()"
   ], 
   "outputs": [], 
   "metadata": {
    "collapsed": false, 
    "editable": true, 
    "deletable": true
   }
  }, 
  {
   "source": [
    "# Train a good model!\n", 
    "Train the best fully-connected model that you can on CIFAR-10, storing your best model in the `best_model` variable. We require you to get at least 50% accuracy on the validation set using a fully-connected net.\n", 
    "\n", 
    "If you are careful it should be possible to get accuracies above 55%, but we don't require it for this part and won't assign extra credit for doing so. Later in the assignment we will ask you to train the best convolutional network that you can on CIFAR-10, and we would prefer that you spend your effort working on convolutional nets rather than fully-connected nets.\n", 
    "\n", 
    "You might find it useful to complete the `BatchNormalization.ipynb` and `Dropout.ipynb` notebooks before completing this part, since those techniques can help you train powerful models."
   ], 
   "cell_type": "markdown", 
   "metadata": {
    "editable": true, 
    "deletable": true
   }
  }, 
  {
   "execution_count": null, 
   "cell_type": "code", 
   "source": [
    "best_model = None\n", 
    "################################################################################\n", 
    "# TODO: Train the best FullyConnectedNet that you can on CIFAR-10. You might   #\n", 
    "# batch normalization and dropout useful. Store your best model in the         #\n", 
    "# best_model variable.                                                         #\n", 
    "################################################################################\n", 
    "pass\n", 
    "################################################################################\n", 
    "#                              END OF YOUR CODE                                #\n", 
    "################################################################################"
   ], 
   "outputs": [], 
   "metadata": {
    "scrolled": false, 
    "collapsed": false, 
    "editable": true, 
    "deletable": true
   }
  }, 
  {
   "source": [
    "# Test you model\n", 
    "Run your best model on the validation and test sets. You should achieve above 50% accuracy on the validation set."
   ], 
   "cell_type": "markdown", 
   "metadata": {
    "editable": true, 
    "deletable": true
   }
  }, 
  {
   "execution_count": null, 
   "cell_type": "code", 
   "source": [
    "y_test_pred = np.argmax(best_model.loss(data['X_test']), axis=1)\n", 
    "y_val_pred = np.argmax(best_model.loss(data['X_val']), axis=1)\n", 
    "print('Validation set accuracy: ', (y_val_pred == data['y_val']).mean())\n", 
    "print('Test set accuracy: ', (y_test_pred == data['y_test']).mean())"
   ], 
   "outputs": [], 
   "metadata": {
    "collapsed": false, 
    "editable": true, 
    "deletable": true
   }
  }
 ], 
 "metadata": {
  "kernelspec": {
   "display_name": "Python 3", 
   "name": "python3", 
   "language": "python"
  }, 
  "language_info": {
   "mimetype": "text/x-python", 
   "nbconvert_exporter": "python", 
   "name": "python", 
   "file_extension": ".py", 
   "version": "3.5.0", 
   "pygments_lexer": "ipython3", 
   "codemirror_mode": {
    "version": 3, 
    "name": "ipython"
   }
  }
 }
}
>>>>>>> 71ffff3b77311ca3661b51ca0f8b004e6ea69d42
